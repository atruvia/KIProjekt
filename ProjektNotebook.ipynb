{
 "cells": [
  {
   "cell_type": "code",
   "execution_count": 5082,
   "metadata": {},
   "outputs": [
    {
     "data": {
      "text/html": [
       "<div>\n",
       "<style scoped>\n",
       "    .dataframe tbody tr th:only-of-type {\n",
       "        vertical-align: middle;\n",
       "    }\n",
       "\n",
       "    .dataframe tbody tr th {\n",
       "        vertical-align: top;\n",
       "    }\n",
       "\n",
       "    .dataframe thead th {\n",
       "        text-align: right;\n",
       "    }\n",
       "</style>\n",
       "<table border=\"1\" class=\"dataframe\">\n",
       "  <thead>\n",
       "    <tr style=\"text-align: right;\">\n",
       "      <th></th>\n",
       "      <th>calEvents</th>\n",
       "      <th>datumBeginn</th>\n",
       "      <th>datumEnde</th>\n",
       "      <th>desc</th>\n",
       "      <th>gruppenName</th>\n",
       "      <th>name</th>\n",
       "      <th>newEvents</th>\n",
       "      <th>ort</th>\n",
       "      <th>score</th>\n",
       "      <th>speichern</th>\n",
       "      <th>uhrzeitBeginn</th>\n",
       "      <th>uhrzeitEnde</th>\n",
       "      <th>url</th>\n",
       "    </tr>\n",
       "  </thead>\n",
       "  <tbody>\n",
       "    <tr>\n",
       "      <th>937</th>\n",
       "      <td>[]</td>\n",
       "      <td></td>\n",
       "      <td></td>\n",
       "      <td>&lt;p&gt;Inhalt des 20. Info-Treffs&lt;/p&gt; &lt;p&gt;C++ im Em...</td>\n",
       "      <td>C++ User Group Karlsruhe</td>\n",
       "      <td>C++ im Embedded-Medizinger�t � Lohnt der Einsa...</td>\n",
       "      <td>[]</td>\n",
       "      <td>Am Fasanengarten 5, Karlsruhe</td>\n",
       "      <td>16</td>\n",
       "      <td>True</td>\n",
       "      <td></td>\n",
       "      <td></td>\n",
       "      <td>https://www.meetup.com/C-User-Group-Karlsruhe/...</td>\n",
       "    </tr>\n",
       "    <tr>\n",
       "      <th>938</th>\n",
       "      <td>[]</td>\n",
       "      <td>2018-09-01</td>\n",
       "      <td>2018-09-01</td>\n",
       "      <td>&lt;p&gt;OFFIZIELLER BOOTCAMP TRAILER?:&lt;br/&gt;&lt;a href=...</td>\n",
       "      <td>Bootcamp (Mannheim)</td>\n",
       "      <td>Bootcamp</td>\n",
       "      <td>[]</td>\n",
       "      <td>Ecke Otto-Beck-Stra�e/Kolpingstra�e, Treffpunk...</td>\n",
       "      <td>19</td>\n",
       "      <td>True</td>\n",
       "      <td>11:00</td>\n",
       "      <td>12:00</td>\n",
       "      <td>https://www.meetup.com/Bootcamp-Mannheim/event...</td>\n",
       "    </tr>\n",
       "    <tr>\n",
       "      <th>939</th>\n",
       "      <td>[]</td>\n",
       "      <td>2018-09-02</td>\n",
       "      <td>2018-09-02</td>\n",
       "      <td>&lt;p&gt;OFFIZIELLER BOOTCAMP TRAILER?:&lt;br/&gt;&lt;a href=...</td>\n",
       "      <td>Bootcamp Ludwigshafen</td>\n",
       "      <td>Bootcamp</td>\n",
       "      <td>[]</td>\n",
       "      <td>Saarlandstra�e 70, 67061 Ludwigshafen am Rhein...</td>\n",
       "      <td>19</td>\n",
       "      <td>True</td>\n",
       "      <td>11:00</td>\n",
       "      <td>12:00</td>\n",
       "      <td>https://www.meetup.com/Bootcamp-Ludwigshafen/e...</td>\n",
       "    </tr>\n",
       "    <tr>\n",
       "      <th>940</th>\n",
       "      <td>[]</td>\n",
       "      <td></td>\n",
       "      <td></td>\n",
       "      <td>&lt;p&gt;Are you longing to hear and talk about that...</td>\n",
       "      <td>karlsruhe.ai</td>\n",
       "      <td>[Casual] Community Conversation about Machine ...</td>\n",
       "      <td>[]</td>\n",
       "      <td>Haid-und-Neu Str. 18, Karlsruhe, Karlsruhe</td>\n",
       "      <td>20</td>\n",
       "      <td>True</td>\n",
       "      <td></td>\n",
       "      <td></td>\n",
       "      <td>https://www.meetup.com/karlsruhe-ai/events/253...</td>\n",
       "    </tr>\n",
       "    <tr>\n",
       "      <th>941</th>\n",
       "      <td>[]</td>\n",
       "      <td></td>\n",
       "      <td></td>\n",
       "      <td>&lt;p&gt;In this event, we discuss scientific papers...</td>\n",
       "      <td>karlsruhe.ai</td>\n",
       "      <td>[PaperDiscussion] Computational Protein Design...</td>\n",
       "      <td>[]</td>\n",
       "      <td>Am Fasanengarten 5, Karlsruhe</td>\n",
       "      <td>23</td>\n",
       "      <td>True</td>\n",
       "      <td></td>\n",
       "      <td></td>\n",
       "      <td>https://www.meetup.com/karlsruhe-ai/events/253...</td>\n",
       "    </tr>\n",
       "  </tbody>\n",
       "</table>\n",
       "</div>"
      ],
      "text/plain": [
       "    calEvents datumBeginn   datumEnde  \\\n",
       "937        []                           \n",
       "938        []  2018-09-01  2018-09-01   \n",
       "939        []  2018-09-02  2018-09-02   \n",
       "940        []                           \n",
       "941        []                           \n",
       "\n",
       "                                                  desc  \\\n",
       "937  <p>Inhalt des 20. Info-Treffs</p> <p>C++ im Em...   \n",
       "938  <p>OFFIZIELLER BOOTCAMP TRAILER?:<br/><a href=...   \n",
       "939  <p>OFFIZIELLER BOOTCAMP TRAILER?:<br/><a href=...   \n",
       "940  <p>Are you longing to hear and talk about that...   \n",
       "941  <p>In this event, we discuss scientific papers...   \n",
       "\n",
       "                  gruppenName  \\\n",
       "937  C++ User Group Karlsruhe   \n",
       "938       Bootcamp (Mannheim)   \n",
       "939     Bootcamp Ludwigshafen   \n",
       "940              karlsruhe.ai   \n",
       "941              karlsruhe.ai   \n",
       "\n",
       "                                                  name newEvents  \\\n",
       "937  C++ im Embedded-Medizinger�t � Lohnt der Einsa...        []   \n",
       "938                                           Bootcamp        []   \n",
       "939                                           Bootcamp        []   \n",
       "940  [Casual] Community Conversation about Machine ...        []   \n",
       "941  [PaperDiscussion] Computational Protein Design...        []   \n",
       "\n",
       "                                                   ort  score  speichern  \\\n",
       "937                      Am Fasanengarten 5, Karlsruhe     16       True   \n",
       "938  Ecke Otto-Beck-Stra�e/Kolpingstra�e, Treffpunk...     19       True   \n",
       "939  Saarlandstra�e 70, 67061 Ludwigshafen am Rhein...     19       True   \n",
       "940         Haid-und-Neu Str. 18, Karlsruhe, Karlsruhe     20       True   \n",
       "941                     Am Fasanengarten 5, Karlsruhe      23       True   \n",
       "\n",
       "    uhrzeitBeginn uhrzeitEnde  \\\n",
       "937                             \n",
       "938         11:00       12:00   \n",
       "939         11:00       12:00   \n",
       "940                             \n",
       "941                             \n",
       "\n",
       "                                                   url  \n",
       "937  https://www.meetup.com/C-User-Group-Karlsruhe/...  \n",
       "938  https://www.meetup.com/Bootcamp-Mannheim/event...  \n",
       "939  https://www.meetup.com/Bootcamp-Ludwigshafen/e...  \n",
       "940  https://www.meetup.com/karlsruhe-ai/events/253...  \n",
       "941  https://www.meetup.com/karlsruhe-ai/events/253...  "
      ]
     },
     "execution_count": 5082,
     "metadata": {},
     "output_type": "execute_result"
    }
   ],
   "source": [
    "import pandas as pd\n",
    "import json\n",
    "import seaborn as sns\n",
    "import numpy as np\n",
    "import matplotlib.pyplot as plt\n",
    "\n",
    "from pandas.io.json import json_normalize\n",
    "from sklearn.model_selection import train_test_split\n",
    "from sklearn.model_selection import StratifiedShuffleSplit\n",
    "\n",
    "from sklearn import tree\n",
    "from sklearn.ensemble import BaggingClassifier\n",
    "from sklearn.ensemble import RandomForestClassifier\n",
    "from sklearn.ensemble import ExtraTreesClassifier\n",
    "from sklearn.ensemble import AdaBoostClassifier\n",
    "from sklearn.ensemble import GradientBoostingClassifier\n",
    "\n",
    "from sklearn.feature_extraction.text import TfidfVectorizer\n",
    "from sklearn.metrics import classification_report\n",
    "from sklearn.metrics import confusion_matrix\n",
    "\n",
    "from imblearn.over_sampling import RandomOverSampler\n",
    "from imblearn.over_sampling import SMOTE \n",
    "from imblearn.over_sampling import ADASYN\n",
    "from imblearn.under_sampling import RandomUnderSampler\n",
    "\n",
    "from sklearn.externals import joblib\n",
    "\n",
    "data = pd.read_json('uebungs2datei.json')\n",
    "data.tail()"
   ]
  },
  {
   "cell_type": "code",
   "execution_count": 5083,
   "metadata": {},
   "outputs": [
    {
     "data": {
      "text/plain": [
       "False    819\n",
       "True     123\n",
       "Name: speichern, dtype: int64"
      ]
     },
     "execution_count": 5083,
     "metadata": {},
     "output_type": "execute_result"
    }
   ],
   "source": [
    "data['speichern'].value_counts()"
   ]
  },
  {
   "cell_type": "markdown",
   "metadata": {},
   "source": [
    "# HTML-Tags in Beschreibung entfernen"
   ]
  },
  {
   "cell_type": "code",
   "execution_count": 5084,
   "metadata": {},
   "outputs": [],
   "source": [
    "imp_data = data[['speichern','desc','gruppenName','name','ort']]"
   ]
  },
  {
   "cell_type": "code",
   "execution_count": 5085,
   "metadata": {},
   "outputs": [],
   "source": [
    "imp_data_plain = imp_data.copy()\n",
    "imp_data_plain['desc']=imp_data['desc'].apply(lambda x : x.replace('\"',''))\n",
    "imp_data_plain['desc']=imp_data_plain['desc'].apply(lambda x : x.replace('<p>',''))\n",
    "imp_data_plain['desc']=imp_data_plain['desc'].apply(lambda x : x.replace('</p>',''))\n",
    "imp_data_plain['desc']=imp_data_plain['desc'].apply(lambda x : x.replace('<b>',''))\n",
    "imp_data_plain['desc']=imp_data_plain['desc'].apply(lambda x : x.replace('</b>',''))\n",
    "imp_data_plain['desc']=imp_data_plain['desc'].apply(lambda x : x.replace('\\\\n',''))\n",
    "imp_data_plain['desc']=imp_data_plain['desc'].apply(lambda x : x.replace('\\\\>',''))\n",
    "imp_data_plain['desc']=imp_data_plain['desc'].apply(lambda x : x.replace('/>',''))"
   ]
  },
  {
   "cell_type": "code",
   "execution_count": 5086,
   "metadata": {},
   "outputs": [
    {
     "data": {
      "text/html": [
       "<div>\n",
       "<style scoped>\n",
       "    .dataframe tbody tr th:only-of-type {\n",
       "        vertical-align: middle;\n",
       "    }\n",
       "\n",
       "    .dataframe tbody tr th {\n",
       "        vertical-align: top;\n",
       "    }\n",
       "\n",
       "    .dataframe thead th {\n",
       "        text-align: right;\n",
       "    }\n",
       "</style>\n",
       "<table border=\"1\" class=\"dataframe\">\n",
       "  <thead>\n",
       "    <tr style=\"text-align: right;\">\n",
       "      <th></th>\n",
       "      <th>speichern</th>\n",
       "      <th>desc</th>\n",
       "      <th>gruppenName</th>\n",
       "      <th>name</th>\n",
       "      <th>ort</th>\n",
       "    </tr>\n",
       "  </thead>\n",
       "  <tbody>\n",
       "    <tr>\n",
       "      <th>0</th>\n",
       "      <td>False</td>\n",
       "      <td>[Technisches Verst�ndnis und Kenntnisse in der...</td>\n",
       "      <td>NaN</td>\n",
       "      <td></td>\n",
       "      <td></td>\n",
       "    </tr>\n",
       "    <tr>\n",
       "      <th>1</th>\n",
       "      <td>False</td>\n",
       "      <td>Kultur im Cyberspace und jugendliche Lebenswel...</td>\n",
       "      <td>NaN</td>\n",
       "      <td></td>\n",
       "      <td></td>\n",
       "    </tr>\n",
       "    <tr>\n",
       "      <th>2</th>\n",
       "      <td>False</td>\n",
       "      <td>[Kommunikation mit Computern ist wundervoll ei...</td>\n",
       "      <td>NaN</td>\n",
       "      <td></td>\n",
       "      <td></td>\n",
       "    </tr>\n",
       "    <tr>\n",
       "      <th>3</th>\n",
       "      <td>False</td>\n",
       "      <td>Talklet (Vortrags- und Diskussionsabend) am Do...</td>\n",
       "      <td>NaN</td>\n",
       "      <td></td>\n",
       "      <td></td>\n",
       "    </tr>\n",
       "    <tr>\n",
       "      <th>4</th>\n",
       "      <td>False</td>\n",
       "      <td>[NOSQL, Big Data und Graphen sind zur Zeit in ...</td>\n",
       "      <td>NaN</td>\n",
       "      <td></td>\n",
       "      <td></td>\n",
       "    </tr>\n",
       "  </tbody>\n",
       "</table>\n",
       "</div>"
      ],
      "text/plain": [
       "   speichern                                               desc gruppenName  \\\n",
       "0      False  [Technisches Verst�ndnis und Kenntnisse in der...         NaN   \n",
       "1      False  Kultur im Cyberspace und jugendliche Lebenswel...         NaN   \n",
       "2      False  [Kommunikation mit Computern ist wundervoll ei...         NaN   \n",
       "3      False  Talklet (Vortrags- und Diskussionsabend) am Do...         NaN   \n",
       "4      False  [NOSQL, Big Data und Graphen sind zur Zeit in ...         NaN   \n",
       "\n",
       "  name ort  \n",
       "0           \n",
       "1           \n",
       "2           \n",
       "3           \n",
       "4           "
      ]
     },
     "execution_count": 5086,
     "metadata": {},
     "output_type": "execute_result"
    }
   ],
   "source": [
    "imp_data_plain.head()"
   ]
  },
  {
   "cell_type": "markdown",
   "metadata": {},
   "source": [
    "# Datenset splitten"
   ]
  },
  {
   "cell_type": "code",
   "execution_count": 5087,
   "metadata": {},
   "outputs": [],
   "source": [
    "X_all = imp_data_plain.drop('speichern', axis=1)\n",
    "Y_all = imp_data_plain[\"speichern\"]\n",
    "\n",
    "sss = StratifiedShuffleSplit(n_splits=1, test_size=0.2)\n",
    "\n",
    "for train_index, test_index in sss.split(X_all, Y_all):\n",
    "    X_train, X_test = X_all.iloc[train_index], X_all.iloc[test_index]\n",
    "    Y_train, Y_test = Y_all.iloc[train_index], Y_all.iloc[test_index]"
   ]
  },
  {
   "cell_type": "markdown",
   "metadata": {},
   "source": [
    "# Beschreibungen vectorisieren und Vokabular anlegen"
   ]
  },
  {
   "cell_type": "code",
   "execution_count": 5088,
   "metadata": {},
   "outputs": [],
   "source": [
    "X_train_voc =  X_train['desc']\n",
    "\n",
    "cv = TfidfVectorizer(token_pattern = '(?ui)\\\\b\\\\w*[a-z]\\\\w*[a-z]{5,20}\\\\b',min_df=0.02, max_df = 0.07, max_features = 200)\n",
    "\n",
    "cv.fit(X_train_voc)\n",
    "X_train_cv = cv.transform(X_train['desc'])"
   ]
  },
  {
   "cell_type": "code",
   "execution_count": 5089,
   "metadata": {
    "scrolled": false
   },
   "outputs": [
    {
     "data": {
      "text/plain": [
       "753"
      ]
     },
     "execution_count": 5089,
     "metadata": {},
     "output_type": "execute_result"
    }
   ],
   "source": [
    "len(X_train_voc)"
   ]
  },
  {
   "cell_type": "code",
   "execution_count": 5090,
   "metadata": {},
   "outputs": [
    {
     "data": {
      "text/plain": [
       "9      Activiti als neue Open Source BPM Plattform ve...\n",
       "903    In this event, we discuss scientific papers on...\n",
       "495    Einladung zum ObjektForum Stuttgart \\nam Monta...\n",
       "492    Agile Nacht Stuttgart am Montag, 7. M�rz 2016,...\n",
       "758    Moustafa<bris a self defense trainer and I has...\n",
       "188    Dr. rer. nat. Rob van Stee\\n\\nElektronische Wa...\n",
       "303    Speaker: Dr Heinz M. Kabutz (PhD CompSci) Auth...\n",
       "582    [Parallele und nebenl�ufige Programmierung wir...\n",
       "48     http://www.jug-bb.de/2013/08/graph-databases-w...\n",
       "257    http://www.mac-ka.de/\\n\\nJeden 1. Donnerstag i...\n",
       "448    Mobile Forum Stuttgart\\nhttp://jugs.de/mfs/\\n\\...\n",
       "170                           Infos: http://ka.linux.de/\n",
       "737                                                     \n",
       "839    [Grails ist ein Open-Source-Framework f�r die ...\n",
       "185            http://ka.stadtwiki.net/Stadtwiki:Treffen\n",
       "274    Neben den traditionell von einer Datenbank unt...\n",
       "784    Let's get together and boulder at Cafe Kraft :...\n",
       "450    Java Forum Stuttgart 2013\\n\\nEint�gigige Konfe...\n",
       "244    Programm:\\n18:00 Uhr Begr��ung und Einf�hrung\\...\n",
       "301    Anwendungen mit intuitiven Benutzeroberfl�chen...\n",
       "667    An diesem Termin trifft sich der deutschsprach...\n",
       "740    Do you want to improve a language and meet new...\n",
       "405                                                     \n",
       "800    � Was wir unternehmen werden<brBei guten Tee s...\n",
       "183    Inhalt:\\n- Vertragstypen\\n- Wichtige Regelungs...\n",
       "558    [Microservice API styles, service lookups, dat...\n",
       "27     Mehr unter http://www.jug-bb.de/2012/07/unit-t...\n",
       "559                                                   []\n",
       "536    [Ihr wollt wissen, wie Ihr den Menschen in Eur...\n",
       "106    Kolloquium IV: Themenkreis 2000 bis 2006\\n\\nIm...\n",
       "                             ...                        \n",
       "146    Veranstaltung im Rahmen des ObjektForums Karls...\n",
       "459    Einladung zum ObjektForum Stuttgart \\nam Monta...\n",
       "701    Bevor an diesem Abend die Fassade des Karlsruh...\n",
       "660                                                     \n",
       "358    Einladung zum ObjektForum Stuttgart in der Alt...\n",
       "813    Its a Vietnamese restaurant. English conversat...\n",
       "375    Einladung zum ObjektForum Stuttgart am Montag,...\n",
       "522    Workshop am&nbsp;Samstag, 3. M�rz 2018, 09:00 ...\n",
       "273    Siehe http://www.webmontag.de/location/karlsru...\n",
       "716    -- pour s'inscrire, contacter�Tatiana Mychelov...\n",
       "794                                                     \n",
       "785    Woodworking, metalworking, electronics, 3D pri...\n",
       "763    Hallo, liebe Minimals ! Ihr habt einen minimal...\n",
       "458    Workshop Java f�r Entscheider am 16. Juli 2014...\n",
       "743    An jedem ersten Samstag im Monat findet unser ...\n",
       "791    Suchst du noch oder findest du schon?<brAls la...\n",
       "541    [Das haben wir schon immer so gemacht oder Ich...\n",
       "71     http://www.jug-berlin-brandenburg.de/blog/2014...\n",
       "687                                                     \n",
       "556    [In diesem Jahr hat Kotlin die Version 1.0 err...\n",
       "507    Talklet (Vortrags- und Diskussionsabend) am Do...\n",
       "238    Im Rahmen von MoDe, einer Veranstaltungsreihe ...\n",
       "793    Programm:�Gemeinsam Experimentieren &amp; Lern...\n",
       "924    [Open Source Identity Management mit Keycloak ...\n",
       "77     http://www.jug-berlin-brandenburg.de/blog/2015...\n",
       "913    La multiplication des donn�es ouvre de nouvell...\n",
       "911    Erlebe eine kreative Mal-Party. ArtMasters mac...\n",
       "645    -- pour s'inscrire,�contacter Olga Sokol-Meyer...\n",
       "941    In this event, we discuss scientific papers on...\n",
       "592    [McCabe, Halsted, Cyclomatic Complexity, WTFPS...\n",
       "Name: desc, Length: 753, dtype: object"
      ]
     },
     "execution_count": 5090,
     "metadata": {},
     "output_type": "execute_result"
    }
   ],
   "source": [
    "X_train_voc"
   ]
  },
  {
   "cell_type": "code",
   "execution_count": 5091,
   "metadata": {},
   "outputs": [
    {
     "data": {
      "text/plain": [
       "194"
      ]
     },
     "execution_count": 5091,
     "metadata": {},
     "output_type": "execute_result"
    }
   ],
   "source": [
    "len(cv.get_feature_names())"
   ]
  },
  {
   "cell_type": "code",
   "execution_count": 5092,
   "metadata": {},
   "outputs": [
    {
     "data": {
      "text/plain": [
       "['abstract',\n",
       " 'agenda',\n",
       " 'agilen',\n",
       " 'aktuellen',\n",
       " 'allerdings',\n",
       " 'andere',\n",
       " 'andrena',\n",
       " 'anfahrt',\n",
       " 'anforderungen',\n",
       " 'anhand',\n",
       " 'anschluss',\n",
       " 'anwendung',\n",
       " 'anwendungen',\n",
       " 'apache',\n",
       " 'application',\n",
       " 'applications',\n",
       " 'applikationen',\n",
       " 'architekt',\n",
       " 'architektur',\n",
       " 'architekturen',\n",
       " 'atmosph',\n",
       " 'beispiel',\n",
       " 'berblick',\n",
       " 'bereich',\n",
       " 'bereits',\n",
       " 'berlin',\n",
       " 'besser',\n",
       " 'bieten',\n",
       " 'bietet',\n",
       " 'bitten',\n",
       " 'brandenburg',\n",
       " 'bringen',\n",
       " 'business',\n",
       " 'chlich',\n",
       " 'community',\n",
       " 'computer',\n",
       " 'consultant',\n",
       " 'degerloch',\n",
       " 'design',\n",
       " 'details',\n",
       " 'deutschen',\n",
       " 'deutschland',\n",
       " 'developer',\n",
       " 'development',\n",
       " 'dienstag',\n",
       " 'diesen',\n",
       " 'dieses',\n",
       " 'direkt',\n",
       " 'diskussion',\n",
       " 'diskussionsabend',\n",
       " 'driven',\n",
       " 'eclipse',\n",
       " 'eigene',\n",
       " 'eigenen',\n",
       " 'eigentlich',\n",
       " 'einige',\n",
       " 'einsatz',\n",
       " 'english',\n",
       " 'enterprise',\n",
       " 'entwickeln',\n",
       " 'erfahrung',\n",
       " 'erfahrungen',\n",
       " 'ersten',\n",
       " 'features',\n",
       " 'finden',\n",
       " 'findet',\n",
       " 'fragen',\n",
       " 'framework',\n",
       " 'frameworks',\n",
       " 'freuen',\n",
       " 'gemeinsam',\n",
       " 'gerade',\n",
       " 'gezeigt',\n",
       " 'glichen',\n",
       " 'glichkeit',\n",
       " 'glichkeiten',\n",
       " 'glicht',\n",
       " 'google',\n",
       " 'gruppe',\n",
       " 'herzlich',\n",
       " 'hochschule',\n",
       " 'informatik',\n",
       " 'informationen',\n",
       " 'insbesondere',\n",
       " 'integration',\n",
       " 'interesse',\n",
       " 'internationalen',\n",
       " 'internet',\n",
       " 'kaiserslautern',\n",
       " 'kleinen',\n",
       " 'kommen',\n",
       " 'konferenzen',\n",
       " 'konzepte',\n",
       " 'kunden',\n",
       " 'lassen',\n",
       " 'leider',\n",
       " 'lernen',\n",
       " 'letzten',\n",
       " 'liegen',\n",
       " 'linkified',\n",
       " 'machen',\n",
       " 'management',\n",
       " 'meetup',\n",
       " 'meldet',\n",
       " 'michael',\n",
       " 'minuten',\n",
       " 'mittwoch',\n",
       " 'networking',\n",
       " 'neugierige',\n",
       " 'neulinge',\n",
       " 'november',\n",
       " 'nutzen',\n",
       " 'objects',\n",
       " 'objektforum',\n",
       " 'oliver',\n",
       " 'oracle',\n",
       " 'performance',\n",
       " 'pivotal',\n",
       " 'planen',\n",
       " 'planung',\n",
       " 'plattform',\n",
       " 'please',\n",
       " 'practices',\n",
       " 'praxis',\n",
       " 'probleme',\n",
       " 'programmieren',\n",
       " 'programming',\n",
       " 'project',\n",
       " 'projekt',\n",
       " 'projekte',\n",
       " 'qualit',\n",
       " 'rahmen',\n",
       " 'referenten',\n",
       " 'regelm',\n",
       " 'scheuer',\n",
       " 'schicken',\n",
       " 'security',\n",
       " 'seinem',\n",
       " 'seiner',\n",
       " 'selbst',\n",
       " 'september',\n",
       " 'server',\n",
       " 'services',\n",
       " 'session',\n",
       " 'softwarearchitektur',\n",
       " 'softwareentwickler',\n",
       " 'softwareentwicklung',\n",
       " 'sollte',\n",
       " 'sondern',\n",
       " 'sprecher',\n",
       " 'spring',\n",
       " 'stammtisch',\n",
       " 'stefan',\n",
       " 'stehen',\n",
       " 'stellen',\n",
       " 'stellt',\n",
       " 'sungen',\n",
       " 'systeme',\n",
       " 'systems',\n",
       " 'talklet',\n",
       " 'technik',\n",
       " 'technologie',\n",
       " 'technologien',\n",
       " 'technology',\n",
       " 'teilnehmen',\n",
       " 'teilnehmer',\n",
       " 'testen',\n",
       " 'trainer',\n",
       " 'umfeld',\n",
       " 'unbedingt',\n",
       " 'universit',\n",
       " 'unserer',\n",
       " 'unternehmen',\n",
       " 'unterst',\n",
       " 'veranstalter',\n",
       " 'veranstaltungen',\n",
       " 'veranstaltungseite',\n",
       " 'verschiedene',\n",
       " 'verschiedenen',\n",
       " 'version',\n",
       " 'vielen',\n",
       " 'vorbei',\n",
       " 'vorgestellt',\n",
       " 'vorstellen',\n",
       " 'vortrags',\n",
       " 'welche',\n",
       " 'wichtig',\n",
       " 'wieder',\n",
       " 'wissen',\n",
       " 'wollen',\n",
       " 'workshop',\n",
       " 'zeigen',\n",
       " 'zusammen',\n",
       " 'zwischen']"
      ]
     },
     "execution_count": 5092,
     "metadata": {},
     "output_type": "execute_result"
    }
   ],
   "source": [
    "cv.get_feature_names()"
   ]
  },
  {
   "cell_type": "code",
   "execution_count": 5093,
   "metadata": {},
   "outputs": [],
   "source": [
    "Y_train = Y_train.astype('int')"
   ]
  },
  {
   "cell_type": "code",
   "execution_count": 5094,
   "metadata": {},
   "outputs": [],
   "source": [
    "Y_test = Y_test.astype('int')"
   ]
  },
  {
   "cell_type": "code",
   "execution_count": 5095,
   "metadata": {},
   "outputs": [],
   "source": [
    "X_test_cv = cv.transform(X_test['desc'])"
   ]
  },
  {
   "cell_type": "code",
   "execution_count": 5096,
   "metadata": {},
   "outputs": [],
   "source": [
    "def myEvaluation(y_pred):\n",
    "    print(classification_report(Y_test, y_pred, digits=4))\n",
    "    sns.heatmap(confusion_matrix(Y_test, y_pred), square=True, annot=True)\n",
    "    plt.show()"
   ]
  },
  {
   "cell_type": "markdown",
   "metadata": {},
   "source": [
    "# DecisionTree"
   ]
  },
  {
   "cell_type": "code",
   "execution_count": 5122,
   "metadata": {},
   "outputs": [
    {
     "name": "stdout",
     "output_type": "stream",
     "text": [
      "             precision    recall  f1-score   support\n",
      "\n",
      "          0     0.9198    0.9085    0.9141       164\n",
      "          1     0.4444    0.4800    0.4615        25\n",
      "\n",
      "avg / total     0.8569    0.8519    0.8542       189\n",
      "\n"
     ]
    },
    {
     "data": {
      "image/png": "[encoded data removed]",
      "text/plain": [
       "<Figure size 432x288 with 2 Axes>"
      ]
     },
     "metadata": {},
     "output_type": "display_data"
    }
   ],
   "source": [
    "clf_tree = tree.DecisionTreeClassifier(max_depth=25)\n",
    "clf_tree.fit(X_train_cv, Y_train)\n",
    "y_pred_tree = clf_tree.predict(X_test_cv)\n",
    "myEvaluation(y_pred_tree)"
   ]
  },
  {
   "cell_type": "markdown",
   "metadata": {},
   "source": [
    "# DecisionTree + ROS"
   ]
  },
  {
   "cell_type": "code",
   "execution_count": 5098,
   "metadata": {},
   "outputs": [
    {
     "name": "stdout",
     "output_type": "stream",
     "text": [
      "             precision    recall  f1-score   support\n",
      "\n",
      "          0     0.9172    0.8780    0.8972       164\n",
      "          1     0.3750    0.4800    0.4211        25\n",
      "\n",
      "avg / total     0.8455    0.8254    0.8342       189\n",
      "\n"
     ]
    },
    {
     "data": {
      "image/png": "[encoded data removed]",
      "text/plain": [
       "<Figure size 432x288 with 2 Axes>"
      ]
     },
     "metadata": {},
     "output_type": "display_data"
    }
   ],
   "source": [
    "ros = RandomOverSampler()\n",
    "X_ros_res, y_ros_res = ros.fit_sample(X_train_cv, Y_train)\n",
    "clf_tree2 = tree.DecisionTreeClassifier(max_depth=13)\n",
    "clf_tree2.fit(X_ros_res, y_ros_res)\n",
    "y_pred_tree = clf_tree2.predict(X_test_cv)\n",
    "myEvaluation(y_pred_tree)"
   ]
  },
  {
   "cell_type": "markdown",
   "metadata": {},
   "source": [
    "# DecisionTree + SMOTE"
   ]
  },
  {
   "cell_type": "code",
   "execution_count": 5099,
   "metadata": {},
   "outputs": [
    {
     "name": "stdout",
     "output_type": "stream",
     "text": [
      "             precision    recall  f1-score   support\n",
      "\n",
      "          0     0.9430    0.9085    0.9255       164\n",
      "          1     0.5161    0.6400    0.5714        25\n",
      "\n",
      "avg / total     0.8866    0.8730    0.8786       189\n",
      "\n"
     ]
    },
    {
     "data": {
      "image/png": "[encoded data removed]",
      "text/plain": [
       "<Figure size 432x288 with 2 Axes>"
      ]
     },
     "metadata": {},
     "output_type": "display_data"
    }
   ],
   "source": [
    "s = SMOTE()\n",
    "X_s_res, y_s_res = s.fit_sample(X_train_cv, Y_train)\n",
    "clf_tree3 = tree.DecisionTreeClassifier(max_depth=15)\n",
    "clf_tree3.fit(X_s_res, y_s_res)\n",
    "y_pred_tree = clf_tree3.predict(X_test_cv)\n",
    "myEvaluation(y_pred_tree)"
   ]
  },
  {
   "cell_type": "markdown",
   "metadata": {},
   "source": [
    "# Decisiontree + ADASYN"
   ]
  },
  {
   "cell_type": "code",
   "execution_count": 5100,
   "metadata": {},
   "outputs": [
    {
     "name": "stdout",
     "output_type": "stream",
     "text": [
      "             precision    recall  f1-score   support\n",
      "\n",
      "          0     0.9456    0.8476    0.8939       164\n",
      "          1     0.4048    0.6800    0.5075        25\n",
      "\n",
      "avg / total     0.8740    0.8254    0.8428       189\n",
      "\n"
     ]
    },
    {
     "data": {
      "image/png": "[encoded data removed]",
      "text/plain": [
       "<Figure size 432x288 with 2 Axes>"
      ]
     },
     "metadata": {},
     "output_type": "display_data"
    }
   ],
   "source": [
    "ada = ADASYN()\n",
    "X_ada_res, y_ada_res = ada.fit_sample(X_train_cv, Y_train)\n",
    "clf_tree4 = tree.DecisionTreeClassifier()\n",
    "clf_tree4.fit(X_ada_res, y_ada_res)\n",
    "y_pred_tree = clf_tree4.predict(X_test_cv)\n",
    "myEvaluation(y_pred_tree)"
   ]
  },
  {
   "cell_type": "markdown",
   "metadata": {},
   "source": [
    "# DecisionTree + RandomUnderSampler"
   ]
  },
  {
   "cell_type": "code",
   "execution_count": 5101,
   "metadata": {},
   "outputs": [
    {
     "name": "stdout",
     "output_type": "stream",
     "text": [
      "             precision    recall  f1-score   support\n",
      "\n",
      "          0     0.9635    0.8049    0.8771       164\n",
      "          1     0.3846    0.8000    0.5195        25\n",
      "\n",
      "avg / total     0.8869    0.8042    0.8298       189\n",
      "\n"
     ]
    },
    {
     "data": {
      "image/png": "[encoded data removed]",
      "text/plain": [
       "<Figure size 432x288 with 2 Axes>"
      ]
     },
     "metadata": {},
     "output_type": "display_data"
    }
   ],
   "source": [
    "rus = RandomUnderSampler()\n",
    "X_rus_res, y_rus_res = rus.fit_sample(X_train_cv, Y_train)\n",
    "clf_tree5 = tree.DecisionTreeClassifier()\n",
    "clf_tree5.fit(X_rus_res, y_rus_res)\n",
    "y_pred_tree = clf_tree5.predict(X_test_cv)\n",
    "myEvaluation(y_pred_tree)"
   ]
  },
  {
   "cell_type": "markdown",
   "metadata": {},
   "source": [
    "# RandomForestTree"
   ]
  },
  {
   "cell_type": "code",
   "execution_count": 5102,
   "metadata": {},
   "outputs": [
    {
     "name": "stdout",
     "output_type": "stream",
     "text": [
      "             precision    recall  f1-score   support\n",
      "\n",
      "          0     0.8907    0.9939    0.9395       164\n",
      "          1     0.8333    0.2000    0.3226        25\n",
      "\n",
      "avg / total     0.8831    0.8889    0.8579       189\n",
      "\n"
     ]
    },
    {
     "data": {
      "image/png": "[encoded data removed]",
      "text/plain": [
       "<Figure size 432x288 with 2 Axes>"
      ]
     },
     "metadata": {},
     "output_type": "display_data"
    }
   ],
   "source": [
    "clf_rdm_tree = RandomForestClassifier(n_estimators=100, max_depth=12)\n",
    "clf_rdm_tree.fit(X_train_cv, Y_train)\n",
    "y_pred_rdmForest = clf_rdm_tree.predict(X_test_cv)\n",
    "myEvaluation(y_pred_rdmForest)"
   ]
  },
  {
   "cell_type": "code",
   "execution_count": 5127,
   "metadata": {},
   "outputs": [
    {
     "name": "stdout",
     "output_type": "stream",
     "text": [
      "             precision    recall  f1-score   support\n",
      "\n",
      "          0     0.9101    0.9878    0.9474       164\n",
      "          1     0.8182    0.3600    0.5000        25\n",
      "\n",
      "avg / total     0.8980    0.9048    0.8882       189\n",
      "\n"
     ]
    },
    {
     "data": {
      "image/png": "[encoded data removed]",
      "text/plain": [
       "<Figure size 432x288 with 2 Axes>"
      ]
     },
     "metadata": {},
     "output_type": "display_data"
    }
   ],
   "source": [
    "clf_ext_tree = ExtraTreesClassifier(n_estimators=75, max_depth=50)\n",
    "clf_ext_tree.fit(X_train_cv, Y_train)\n",
    "y_pred_extTree = clf_ext_tree.predict(X_test_cv)\n",
    "myEvaluation(y_pred_extTree)"
   ]
  },
  {
   "cell_type": "markdown",
   "metadata": {},
   "source": [
    "# AdaBoostTree"
   ]
  },
  {
   "cell_type": "code",
   "execution_count": 5135,
   "metadata": {},
   "outputs": [
    {
     "name": "stdout",
     "output_type": "stream",
     "text": [
      "             precision    recall  f1-score   support\n",
      "\n",
      "          0     0.9394    0.9451    0.9422       164\n",
      "          1     0.6250    0.6000    0.6122        25\n",
      "\n",
      "avg / total     0.8978    0.8995    0.8986       189\n",
      "\n"
     ]
    },
    {
     "data": {
      "image/png": "[encoded data removed]",
      "text/plain": [
       "<Figure size 432x288 with 2 Axes>"
      ]
     },
     "metadata": {},
     "output_type": "display_data"
    }
   ],
   "source": [
    "clf_adaBoost_tree = AdaBoostClassifier(tree.DecisionTreeClassifier(max_depth=6),\n",
    "                         algorithm=\"SAMME\",\n",
    "                         n_estimators= 70)\n",
    "\n",
    "clf_adaBoost_tree.fit(X_train_cv, Y_train)\n",
    "y_pred_adaBoost = clf_adaBoost_tree.predict(X_test_cv)\n",
    "myEvaluation(y_pred_adaBoost)"
   ]
  },
  {
   "cell_type": "code",
   "execution_count": 5105,
   "metadata": {},
   "outputs": [
    {
     "name": "stdout",
     "output_type": "stream",
     "text": [
      "             precision    recall  f1-score   support\n",
      "\n",
      "          0     0.9317    0.9146    0.9231       164\n",
      "          1     0.5000    0.5600    0.5283        25\n",
      "\n",
      "avg / total     0.8746    0.8677    0.8709       189\n",
      "\n"
     ]
    },
    {
     "data": {
      "image/png": "[encoded data removed]",
      "text/plain": [
       "<Figure size 432x288 with 2 Axes>"
      ]
     },
     "metadata": {},
     "output_type": "display_data"
    }
   ],
   "source": [
    "rus = SMOTE()\n",
    "X_rus_res, y_rus_res = rus.fit_sample(X_train_cv, Y_train)\n",
    "clf_adaBoost_tree = AdaBoostClassifier(tree.DecisionTreeClassifier(max_depth=15),\n",
    "                         algorithm=\"SAMME\",\n",
    "                         n_estimators= 100)\n",
    "\n",
    "clf_adaBoost_tree.fit(X_rus_res, y_rus_res)\n",
    "y_pred_adaBoost = clf_adaBoost_tree.predict(X_test_cv)\n",
    "myEvaluation(y_pred_adaBoost)"
   ]
  },
  {
   "cell_type": "markdown",
   "metadata": {},
   "source": [
    "# GradientBoostingTree"
   ]
  },
  {
   "cell_type": "code",
   "execution_count": 5144,
   "metadata": {},
   "outputs": [
    {
     "name": "stdout",
     "output_type": "stream",
     "text": [
      "             precision    recall  f1-score   support\n",
      "\n",
      "          0     0.9249    0.9756    0.9496       164\n",
      "          1     0.7500    0.4800    0.5854        25\n",
      "\n",
      "avg / total     0.9017    0.9101    0.9014       189\n",
      "\n"
     ]
    },
    {
     "data": {
      "image/png": "[encoded data removed]",
      "text/plain": [
       "<Figure size 432x288 with 2 Axes>"
      ]
     },
     "metadata": {},
     "output_type": "display_data"
    }
   ],
   "source": [
    "clf_gradBoost_tree1 = GradientBoostingClassifier(n_estimators=75, learning_rate=0.1, max_depth=12)\n",
    "clf_gradBoost_tree1.fit(X_train_cv, Y_train)\n",
    "y_pred_gradBoost = clf_gradBoost_tree1.predict(X_test_cv)\n",
    "myEvaluation(y_pred_gradBoost)"
   ]
  },
  {
   "cell_type": "code",
   "execution_count": 5137,
   "metadata": {},
   "outputs": [
    {
     "name": "stdout",
     "output_type": "stream",
     "text": [
      "             precision    recall  f1-score   support\n",
      "\n",
      "          0     0.9112    0.9390    0.9249       164\n",
      "          1     0.5000    0.4000    0.4444        25\n",
      "\n",
      "avg / total     0.8568    0.8677    0.8614       189\n",
      "\n"
     ]
    },
    {
     "data": {
      "image/png": "[encoded data removed]",
      "text/plain": [
       "<Figure size 432x288 with 2 Axes>"
      ]
     },
     "metadata": {},
     "output_type": "display_data"
    }
   ],
   "source": [
    "clf_gradBoost_tree2 = GradientBoostingClassifier(n_estimators=300, learning_rate=0.1, max_depth=15)\n",
    "clf_gradBoost_tree2.fit(X_train_cv, Y_train)\n",
    "y_pred_gradBoost = clf_gradBoost_tree2.predict(X_test_cv)\n",
    "myEvaluation(y_pred_gradBoost)"
   ]
  },
  {
   "cell_type": "code",
   "execution_count": 5108,
   "metadata": {},
   "outputs": [
    {
     "name": "stdout",
     "output_type": "stream",
     "text": [
      "             precision    recall  f1-score   support\n",
      "\n",
      "          0     0.9123    0.9512    0.9313       164\n",
      "          1     0.5556    0.4000    0.4651        25\n",
      "\n",
      "avg / total     0.8651    0.8783    0.8697       189\n",
      "\n"
     ]
    },
    {
     "data": {
      "image/png": "[encoded data removed]",
      "text/plain": [
       "<Figure size 432x288 with 2 Axes>"
      ]
     },
     "metadata": {},
     "output_type": "display_data"
    }
   ],
   "source": [
    "clf_gradBoost_tree3 = GradientBoostingClassifier(n_estimators=100, learning_rate=0.1, max_depth=25)\n",
    "clf_gradBoost_tree3.fit(X_train_cv, Y_train)\n",
    "y_pred_gradBoost = clf_gradBoost_tree3.predict(X_test_cv)\n",
    "myEvaluation(y_pred_gradBoost)"
   ]
  },
  {
   "cell_type": "code",
   "execution_count": 5109,
   "metadata": {},
   "outputs": [
    {
     "name": "stdout",
     "output_type": "stream",
     "text": [
      "             precision    recall  f1-score   support\n",
      "\n",
      "          0     0.9070    0.9512    0.9286       164\n",
      "          1     0.5294    0.3600    0.4286        25\n",
      "\n",
      "avg / total     0.8570    0.8730    0.8624       189\n",
      "\n"
     ]
    },
    {
     "data": {
      "image/png": "[encoded data removed]",
      "text/plain": [
       "<Figure size 432x288 with 2 Axes>"
      ]
     },
     "metadata": {},
     "output_type": "display_data"
    }
   ],
   "source": [
    "clf_gradBoost_tree4 = GradientBoostingClassifier(n_estimators=50, learning_rate=0.1, max_depth=75)\n",
    "clf_gradBoost_tree4.fit(X_train_cv, Y_train)\n",
    "y_pred_gradBoost = clf_gradBoost_tree4.predict(X_test_cv)\n",
    "myEvaluation(y_pred_gradBoost)"
   ]
  },
  {
   "cell_type": "code",
   "execution_count": 5110,
   "metadata": {},
   "outputs": [
    {
     "name": "stdout",
     "output_type": "stream",
     "text": [
      "             precision    recall  f1-score   support\n",
      "\n",
      "          0     0.9181    0.9573    0.9373       164\n",
      "          1     0.6111    0.4400    0.5116        25\n",
      "\n",
      "avg / total     0.8775    0.8889    0.8810       189\n",
      "\n"
     ]
    },
    {
     "data": {
      "image/png": "[encoded data removed]",
      "text/plain": [
       "<Figure size 432x288 with 2 Axes>"
      ]
     },
     "metadata": {},
     "output_type": "display_data"
    }
   ],
   "source": [
    "clf_gradBoost_tree5 = GradientBoostingClassifier(n_estimators=50, learning_rate=0.1, max_depth=100)\n",
    "clf_gradBoost_tree5.fit(X_train_cv, Y_train)\n",
    "y_pred_gradBoost = clf_gradBoost_tree5.predict(X_test_cv)\n",
    "myEvaluation(y_pred_gradBoost)"
   ]
  },
  {
   "cell_type": "code",
   "execution_count": 5111,
   "metadata": {},
   "outputs": [
    {
     "name": "stdout",
     "output_type": "stream",
     "text": [
      "             precision    recall  f1-score   support\n",
      "\n",
      "          0     0.9172    0.9451    0.9309       164\n",
      "          1     0.5500    0.4400    0.4889        25\n",
      "\n",
      "avg / total     0.8686    0.8783    0.8725       189\n",
      "\n"
     ]
    },
    {
     "data": {
      "image/png": "[encoded data removed]",
      "text/plain": [
       "<Figure size 432x288 with 2 Axes>"
      ]
     },
     "metadata": {},
     "output_type": "display_data"
    }
   ],
   "source": [
    "clf_gradBoost_tree6 = GradientBoostingClassifier(n_estimators=100, learning_rate=0.1, max_depth=40)\n",
    "clf_gradBoost_tree6.fit(X_train_cv, Y_train)\n",
    "y_pred_gradBoost = clf_gradBoost_tree6.predict(X_test_cv)\n",
    "myEvaluation(y_pred_gradBoost)"
   ]
  },
  {
   "cell_type": "code",
   "execution_count": 5112,
   "metadata": {},
   "outputs": [
    {
     "name": "stdout",
     "output_type": "stream",
     "text": [
      "             precision    recall  f1-score   support\n",
      "\n",
      "          0     0.9123    0.9512    0.9313       164\n",
      "          1     0.5556    0.4000    0.4651        25\n",
      "\n",
      "avg / total     0.8651    0.8783    0.8697       189\n",
      "\n"
     ]
    },
    {
     "data": {
      "image/png": "[encoded data removed]",
      "text/plain": [
       "<Figure size 432x288 with 2 Axes>"
      ]
     },
     "metadata": {},
     "output_type": "display_data"
    }
   ],
   "source": [
    "clf_gradBoost_tree7 = GradientBoostingClassifier(n_estimators=100, learning_rate=0.1, max_depth=30)\n",
    "clf_gradBoost_tree7.fit(X_train_cv, Y_train)\n",
    "y_pred_gradBoost = clf_gradBoost_tree7.predict(X_test_cv)\n",
    "myEvaluation(y_pred_gradBoost)"
   ]
  },
  {
   "cell_type": "code",
   "execution_count": 5113,
   "metadata": {},
   "outputs": [
    {
     "name": "stdout",
     "output_type": "stream",
     "text": [
      "             precision    recall  f1-score   support\n",
      "\n",
      "          0     0.9167    0.9390    0.9277       164\n",
      "          1     0.5238    0.4400    0.4783        25\n",
      "\n",
      "avg / total     0.8647    0.8730    0.8683       189\n",
      "\n"
     ]
    },
    {
     "data": {
      "image/png": "[encoded data removed]",
      "text/plain": [
       "<Figure size 432x288 with 2 Axes>"
      ]
     },
     "metadata": {},
     "output_type": "display_data"
    }
   ],
   "source": [
    "clf_gradBoost_tree8 = GradientBoostingClassifier(n_estimators=100, learning_rate=0.1, max_depth=20)\n",
    "clf_gradBoost_tree8.fit(X_train_cv, Y_train)\n",
    "y_pred_gradBoost = clf_gradBoost_tree8.predict(X_test_cv)\n",
    "myEvaluation(y_pred_gradBoost)"
   ]
  },
  {
   "cell_type": "markdown",
   "metadata": {},
   "source": [
    "# GradientBoostingTree + ROS"
   ]
  },
  {
   "cell_type": "code",
   "execution_count": 5114,
   "metadata": {},
   "outputs": [
    {
     "name": "stdout",
     "output_type": "stream",
     "text": [
      "             precision    recall  f1-score   support\n",
      "\n",
      "          0     0.9545    0.8963    0.9245       164\n",
      "          1     0.5143    0.7200    0.6000        25\n",
      "\n",
      "avg / total     0.8963    0.8730    0.8816       189\n",
      "\n"
     ]
    },
    {
     "data": {
      "image/png": "[encoded data removed]",
      "text/plain": [
       "<Figure size 432x288 with 2 Axes>"
      ]
     },
     "metadata": {},
     "output_type": "display_data"
    }
   ],
   "source": [
    "ros = RandomOverSampler()\n",
    "X_ros_res, y_ros_res = ros.fit_sample(X_train_cv, Y_train)\n",
    "clf_gradBoost_tree9 = GradientBoostingClassifier(n_estimators=75, learning_rate=0.1, max_depth=50)\n",
    "clf_gradBoost_tree9.fit(X_rus_res, y_rus_res)\n",
    "y_pred_gradBoost = clf_gradBoost_tree9.predict(X_test_cv)\n",
    "myEvaluation(y_pred_gradBoost)"
   ]
  },
  {
   "cell_type": "markdown",
   "metadata": {},
   "source": [
    "# GradientBoostingTree + RUS"
   ]
  },
  {
   "cell_type": "code",
   "execution_count": 5115,
   "metadata": {},
   "outputs": [
    {
     "name": "stdout",
     "output_type": "stream",
     "text": [
      "             precision    recall  f1-score   support\n",
      "\n",
      "          0     0.9675    0.7256    0.8293       164\n",
      "          1     0.3182    0.8400    0.4615        25\n",
      "\n",
      "avg / total     0.8816    0.7407    0.7806       189\n",
      "\n"
     ]
    },
    {
     "data": {
      "image/png": "[encoded data removed]",
      "text/plain": [
       "<Figure size 432x288 with 2 Axes>"
      ]
     },
     "metadata": {},
     "output_type": "display_data"
    }
   ],
   "source": [
    "rus = RandomUnderSampler()\n",
    "X_rus_res, y_rus_res = rus.fit_sample(X_train_cv, Y_train)\n",
    "clf_gradBoost_tree10 = GradientBoostingClassifier(n_estimators=75, learning_rate=0.1, max_depth=30)\n",
    "clf_gradBoost_tree10.fit(X_rus_res, y_rus_res)\n",
    "y_pred_gradBoost = clf_gradBoost_tree10.predict(X_test_cv)\n",
    "myEvaluation(y_pred_gradBoost)"
   ]
  },
  {
   "cell_type": "code",
   "execution_count": 5145,
   "metadata": {},
   "outputs": [
    {
     "data": {
      "text/plain": [
       "['clf_gradBoost_tree.pkl']"
      ]
     },
     "execution_count": 5145,
     "metadata": {},
     "output_type": "execute_result"
    }
   ],
   "source": [
    "joblib.dump(clf_gradBoost_tree1 , 'clf_gradBoost_tree.pkl') "
   ]
  },
  {
   "cell_type": "code",
   "execution_count": 5146,
   "metadata": {},
   "outputs": [
    {
     "data": {
      "text/plain": [
       "['vectorizer.pkl']"
      ]
     },
     "execution_count": 5146,
     "metadata": {},
     "output_type": "execute_result"
    }
   ],
   "source": [
    " joblib.dump(cv, 'vectorizer.pkl')"
   ]
  },
  {
   "cell_type": "code",
   "execution_count": null,
   "metadata": {},
   "outputs": [],
   "source": []
  }
 ],
 "metadata": {
  "kernelspec": {
   "display_name": "Python 3",
   "language": "python",
   "name": "python3"
  },
  "language_info": {
   "codemirror_mode": {
    "name": "ipython",
    "version": 3
   },
   "file_extension": ".py",
   "mimetype": "text/x-python",
   "name": "python",
   "nbconvert_exporter": "python",
   "pygments_lexer": "ipython3",
   "version": "3.6.6"
  }
 },
 "nbformat": 4,
 "nbformat_minor": 2
}
