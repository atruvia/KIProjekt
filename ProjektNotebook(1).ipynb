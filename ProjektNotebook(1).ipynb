{
 "cells": [
  {
   "cell_type": "code",
   "execution_count": 2600,
   "metadata": {},
   "outputs": [
    {
     "data": {
      "text/html": [
       "<div>\n",
       "<style scoped>\n",
       "    .dataframe tbody tr th:only-of-type {\n",
       "        vertical-align: middle;\n",
       "    }\n",
       "\n",
       "    .dataframe tbody tr th {\n",
       "        vertical-align: top;\n",
       "    }\n",
       "\n",
       "    .dataframe thead th {\n",
       "        text-align: right;\n",
       "    }\n",
       "</style>\n",
       "<table border=\"1\" class=\"dataframe\">\n",
       "  <thead>\n",
       "    <tr style=\"text-align: right;\">\n",
       "      <th></th>\n",
       "      <th>calEvents</th>\n",
       "      <th>datumBeginn</th>\n",
       "      <th>datumEnde</th>\n",
       "      <th>desc</th>\n",
       "      <th>gruppenName</th>\n",
       "      <th>name</th>\n",
       "      <th>newEvents</th>\n",
       "      <th>ort</th>\n",
       "      <th>score</th>\n",
       "      <th>speichern</th>\n",
       "      <th>uhrzeitBeginn</th>\n",
       "      <th>uhrzeitEnde</th>\n",
       "      <th>url</th>\n",
       "    </tr>\n",
       "  </thead>\n",
       "  <tbody>\n",
       "    <tr>\n",
       "      <th>937</th>\n",
       "      <td>[]</td>\n",
       "      <td></td>\n",
       "      <td></td>\n",
       "      <td>&lt;p&gt;Inhalt des 20. Info-Treffs&lt;/p&gt; &lt;p&gt;C++ im Em...</td>\n",
       "      <td>C++ User Group Karlsruhe</td>\n",
       "      <td>C++ im Embedded-Medizinger�t � Lohnt der Einsa...</td>\n",
       "      <td>[]</td>\n",
       "      <td>Am Fasanengarten 5, Karlsruhe</td>\n",
       "      <td>16</td>\n",
       "      <td>True</td>\n",
       "      <td></td>\n",
       "      <td></td>\n",
       "      <td>https://www.meetup.com/C-User-Group-Karlsruhe/...</td>\n",
       "    </tr>\n",
       "    <tr>\n",
       "      <th>938</th>\n",
       "      <td>[]</td>\n",
       "      <td>2018-09-01</td>\n",
       "      <td>2018-09-01</td>\n",
       "      <td>&lt;p&gt;OFFIZIELLER BOOTCAMP TRAILER?:&lt;br/&gt;&lt;a href=...</td>\n",
       "      <td>Bootcamp (Mannheim)</td>\n",
       "      <td>Bootcamp</td>\n",
       "      <td>[]</td>\n",
       "      <td>Ecke Otto-Beck-Stra�e/Kolpingstra�e, Treffpunk...</td>\n",
       "      <td>19</td>\n",
       "      <td>True</td>\n",
       "      <td>11:00</td>\n",
       "      <td>12:00</td>\n",
       "      <td>https://www.meetup.com/Bootcamp-Mannheim/event...</td>\n",
       "    </tr>\n",
       "    <tr>\n",
       "      <th>939</th>\n",
       "      <td>[]</td>\n",
       "      <td>2018-09-02</td>\n",
       "      <td>2018-09-02</td>\n",
       "      <td>&lt;p&gt;OFFIZIELLER BOOTCAMP TRAILER?:&lt;br/&gt;&lt;a href=...</td>\n",
       "      <td>Bootcamp Ludwigshafen</td>\n",
       "      <td>Bootcamp</td>\n",
       "      <td>[]</td>\n",
       "      <td>Saarlandstra�e 70, 67061 Ludwigshafen am Rhein...</td>\n",
       "      <td>19</td>\n",
       "      <td>True</td>\n",
       "      <td>11:00</td>\n",
       "      <td>12:00</td>\n",
       "      <td>https://www.meetup.com/Bootcamp-Ludwigshafen/e...</td>\n",
       "    </tr>\n",
       "    <tr>\n",
       "      <th>940</th>\n",
       "      <td>[]</td>\n",
       "      <td></td>\n",
       "      <td></td>\n",
       "      <td>&lt;p&gt;Are you longing to hear and talk about that...</td>\n",
       "      <td>karlsruhe.ai</td>\n",
       "      <td>[Casual] Community Conversation about Machine ...</td>\n",
       "      <td>[]</td>\n",
       "      <td>Haid-und-Neu Str. 18, Karlsruhe, Karlsruhe</td>\n",
       "      <td>20</td>\n",
       "      <td>True</td>\n",
       "      <td></td>\n",
       "      <td></td>\n",
       "      <td>https://www.meetup.com/karlsruhe-ai/events/253...</td>\n",
       "    </tr>\n",
       "    <tr>\n",
       "      <th>941</th>\n",
       "      <td>[]</td>\n",
       "      <td></td>\n",
       "      <td></td>\n",
       "      <td>&lt;p&gt;In this event, we discuss scientific papers...</td>\n",
       "      <td>karlsruhe.ai</td>\n",
       "      <td>[PaperDiscussion] Computational Protein Design...</td>\n",
       "      <td>[]</td>\n",
       "      <td>Am Fasanengarten 5, Karlsruhe</td>\n",
       "      <td>23</td>\n",
       "      <td>True</td>\n",
       "      <td></td>\n",
       "      <td></td>\n",
       "      <td>https://www.meetup.com/karlsruhe-ai/events/253...</td>\n",
       "    </tr>\n",
       "  </tbody>\n",
       "</table>\n",
       "</div>"
      ],
      "text/plain": [
       "    calEvents datumBeginn   datumEnde  \\\n",
       "937        []                           \n",
       "938        []  2018-09-01  2018-09-01   \n",
       "939        []  2018-09-02  2018-09-02   \n",
       "940        []                           \n",
       "941        []                           \n",
       "\n",
       "                                                  desc  \\\n",
       "937  <p>Inhalt des 20. Info-Treffs</p> <p>C++ im Em...   \n",
       "938  <p>OFFIZIELLER BOOTCAMP TRAILER?:<br/><a href=...   \n",
       "939  <p>OFFIZIELLER BOOTCAMP TRAILER?:<br/><a href=...   \n",
       "940  <p>Are you longing to hear and talk about that...   \n",
       "941  <p>In this event, we discuss scientific papers...   \n",
       "\n",
       "                  gruppenName  \\\n",
       "937  C++ User Group Karlsruhe   \n",
       "938       Bootcamp (Mannheim)   \n",
       "939     Bootcamp Ludwigshafen   \n",
       "940              karlsruhe.ai   \n",
       "941              karlsruhe.ai   \n",
       "\n",
       "                                                  name newEvents  \\\n",
       "937  C++ im Embedded-Medizinger�t � Lohnt der Einsa...        []   \n",
       "938                                           Bootcamp        []   \n",
       "939                                           Bootcamp        []   \n",
       "940  [Casual] Community Conversation about Machine ...        []   \n",
       "941  [PaperDiscussion] Computational Protein Design...        []   \n",
       "\n",
       "                                                   ort  score  speichern  \\\n",
       "937                      Am Fasanengarten 5, Karlsruhe     16       True   \n",
       "938  Ecke Otto-Beck-Stra�e/Kolpingstra�e, Treffpunk...     19       True   \n",
       "939  Saarlandstra�e 70, 67061 Ludwigshafen am Rhein...     19       True   \n",
       "940         Haid-und-Neu Str. 18, Karlsruhe, Karlsruhe     20       True   \n",
       "941                     Am Fasanengarten 5, Karlsruhe      23       True   \n",
       "\n",
       "    uhrzeitBeginn uhrzeitEnde  \\\n",
       "937                             \n",
       "938         11:00       12:00   \n",
       "939         11:00       12:00   \n",
       "940                             \n",
       "941                             \n",
       "\n",
       "                                                   url  \n",
       "937  https://www.meetup.com/C-User-Group-Karlsruhe/...  \n",
       "938  https://www.meetup.com/Bootcamp-Mannheim/event...  \n",
       "939  https://www.meetup.com/Bootcamp-Ludwigshafen/e...  \n",
       "940  https://www.meetup.com/karlsruhe-ai/events/253...  \n",
       "941  https://www.meetup.com/karlsruhe-ai/events/253...  "
      ]
     },
     "execution_count": 2600,
     "metadata": {},
     "output_type": "execute_result"
    }
   ],
   "source": [
    "import pandas as pd\n",
    "import json\n",
    "import seaborn as sns\n",
    "import numpy as np\n",
    "import matplotlib.pyplot as plt\n",
    "\n",
    "from pandas.io.json import json_normalize\n",
    "from sklearn.model_selection import train_test_split\n",
    "from sklearn.model_selection import StratifiedShuffleSplit\n",
    "\n",
    "from sklearn import tree\n",
    "from sklearn.ensemble import BaggingClassifier\n",
    "from sklearn.ensemble import RandomForestClassifier\n",
    "from sklearn.ensemble import ExtraTreesClassifier\n",
    "from sklearn.ensemble import AdaBoostClassifier\n",
    "from sklearn.ensemble import GradientBoostingClassifier\n",
    "\n",
    "from sklearn.feature_extraction.text import TfidfVectorizer\n",
    "from sklearn.metrics import classification_report\n",
    "from sklearn.metrics import confusion_matrix\n",
    "\n",
    "from imblearn.over_sampling import RandomOverSampler\n",
    "from imblearn.over_sampling import SMOTE \n",
    "from imblearn.over_sampling import ADASYN\n",
    "from imblearn.under_sampling import RandomUnderSampler\n",
    "\n",
    "from sklearn.externals import joblib\n",
    "\n",
    "data = pd.read_json('uebungs2datei.json')\n",
    "data.tail()"
   ]
  },
  {
   "cell_type": "code",
   "execution_count": 2551,
   "metadata": {},
   "outputs": [
    {
     "data": {
      "text/plain": [
       "False    819\n",
       "True     123\n",
       "Name: speichern, dtype: int64"
      ]
     },
     "execution_count": 2551,
     "metadata": {},
     "output_type": "execute_result"
    }
   ],
   "source": [
    "data['speichern'].value_counts()"
   ]
  },
  {
   "cell_type": "markdown",
   "metadata": {},
   "source": [
    "# HTML-Tags in Beschreibung entfernen"
   ]
  },
  {
   "cell_type": "code",
   "execution_count": 2552,
   "metadata": {},
   "outputs": [],
   "source": [
    "imp_data = data[['speichern','desc','gruppenName','name','ort']]"
   ]
  },
  {
   "cell_type": "code",
   "execution_count": 2553,
   "metadata": {},
   "outputs": [],
   "source": [
    "imp_data_plain = imp_data.copy()\n",
    "imp_data_plain['desc']=imp_data['desc'].apply(lambda x : x.replace('\"',''))\n",
    "imp_data_plain['desc']=imp_data_plain['desc'].apply(lambda x : x.replace('<p>',''))\n",
    "imp_data_plain['desc']=imp_data_plain['desc'].apply(lambda x : x.replace('</p>',''))\n",
    "imp_data_plain['desc']=imp_data_plain['desc'].apply(lambda x : x.replace('<b>',''))\n",
    "imp_data_plain['desc']=imp_data_plain['desc'].apply(lambda x : x.replace('</b>',''))\n",
    "imp_data_plain['desc']=imp_data_plain['desc'].apply(lambda x : x.replace('\\\\n',''))\n",
    "imp_data_plain['desc']=imp_data_plain['desc'].apply(lambda x : x.replace('\\\\>',''))\n",
    "imp_data_plain['desc']=imp_data_plain['desc'].apply(lambda x : x.replace('/>',''))"
   ]
  },
  {
   "cell_type": "code",
   "execution_count": 2554,
   "metadata": {},
   "outputs": [
    {
     "data": {
      "text/html": [
       "<div>\n",
       "<style scoped>\n",
       "    .dataframe tbody tr th:only-of-type {\n",
       "        vertical-align: middle;\n",
       "    }\n",
       "\n",
       "    .dataframe tbody tr th {\n",
       "        vertical-align: top;\n",
       "    }\n",
       "\n",
       "    .dataframe thead th {\n",
       "        text-align: right;\n",
       "    }\n",
       "</style>\n",
       "<table border=\"1\" class=\"dataframe\">\n",
       "  <thead>\n",
       "    <tr style=\"text-align: right;\">\n",
       "      <th></th>\n",
       "      <th>speichern</th>\n",
       "      <th>desc</th>\n",
       "      <th>gruppenName</th>\n",
       "      <th>name</th>\n",
       "      <th>ort</th>\n",
       "    </tr>\n",
       "  </thead>\n",
       "  <tbody>\n",
       "    <tr>\n",
       "      <th>0</th>\n",
       "      <td>False</td>\n",
       "      <td>[Technisches Verst�ndnis und Kenntnisse in der...</td>\n",
       "      <td>NaN</td>\n",
       "      <td></td>\n",
       "      <td></td>\n",
       "    </tr>\n",
       "    <tr>\n",
       "      <th>1</th>\n",
       "      <td>False</td>\n",
       "      <td>Kultur im Cyberspace und jugendliche Lebenswel...</td>\n",
       "      <td>NaN</td>\n",
       "      <td></td>\n",
       "      <td></td>\n",
       "    </tr>\n",
       "    <tr>\n",
       "      <th>2</th>\n",
       "      <td>False</td>\n",
       "      <td>[Kommunikation mit Computern ist wundervoll ei...</td>\n",
       "      <td>NaN</td>\n",
       "      <td></td>\n",
       "      <td></td>\n",
       "    </tr>\n",
       "    <tr>\n",
       "      <th>3</th>\n",
       "      <td>False</td>\n",
       "      <td>Talklet (Vortrags- und Diskussionsabend) am Do...</td>\n",
       "      <td>NaN</td>\n",
       "      <td></td>\n",
       "      <td></td>\n",
       "    </tr>\n",
       "    <tr>\n",
       "      <th>4</th>\n",
       "      <td>False</td>\n",
       "      <td>[NOSQL, Big Data und Graphen sind zur Zeit in ...</td>\n",
       "      <td>NaN</td>\n",
       "      <td></td>\n",
       "      <td></td>\n",
       "    </tr>\n",
       "  </tbody>\n",
       "</table>\n",
       "</div>"
      ],
      "text/plain": [
       "   speichern                                               desc gruppenName  \\\n",
       "0      False  [Technisches Verst�ndnis und Kenntnisse in der...         NaN   \n",
       "1      False  Kultur im Cyberspace und jugendliche Lebenswel...         NaN   \n",
       "2      False  [Kommunikation mit Computern ist wundervoll ei...         NaN   \n",
       "3      False  Talklet (Vortrags- und Diskussionsabend) am Do...         NaN   \n",
       "4      False  [NOSQL, Big Data und Graphen sind zur Zeit in ...         NaN   \n",
       "\n",
       "  name ort  \n",
       "0           \n",
       "1           \n",
       "2           \n",
       "3           \n",
       "4           "
      ]
     },
     "execution_count": 2554,
     "metadata": {},
     "output_type": "execute_result"
    }
   ],
   "source": [
    "imp_data_plain.head()"
   ]
  },
  {
   "cell_type": "markdown",
   "metadata": {},
   "source": [
    "# Datenset splitten"
   ]
  },
  {
   "cell_type": "code",
   "execution_count": 2555,
   "metadata": {},
   "outputs": [],
   "source": [
    "X_all = imp_data_plain.drop('speichern', axis=1)\n",
    "Y_all = imp_data_plain[\"speichern\"]\n",
    "\n",
    "sss = StratifiedShuffleSplit(n_splits=1, test_size=0.2)\n",
    "\n",
    "for train_index, test_index in sss.split(X_all, Y_all):\n",
    "    X_train, X_test = X_all.iloc[train_index], X_all.iloc[test_index]\n",
    "    Y_train, Y_test = Y_all.iloc[train_index], Y_all.iloc[test_index]"
   ]
  },
  {
   "cell_type": "markdown",
   "metadata": {},
   "source": [
    "# Beschreibungen vectorisieren und Vokabular anlegen"
   ]
  },
  {
   "cell_type": "code",
   "execution_count": 2556,
   "metadata": {},
   "outputs": [],
   "source": [
    "def isSubstantiv(x):\n",
    "    x3 = \"\"\n",
    "    xtemp = x.split(' ')\n",
    "    for i in xtemp:\n",
    "        if not i.islower() or i.isdigit() or i.isupper():\n",
    "                x3 = x3 + \" \" + i\n",
    "    return x3\n",
    "\n",
    "X_train_voc =  X_train['desc'].apply(lambda x : isSubstantiv(x))\n",
    "\n",
    "cv = TfidfVectorizer(token_pattern = '(?ui)\\\\b\\\\w*[a-z]\\\\w*[a-z]\\\\b',min_df=0.02, max_df = 0.7)\n",
    "\n",
    "cv.fit(X_train_voc)\n",
    "X_train_cv = cv.transform(X_train['desc'])"
   ]
  },
  {
   "cell_type": "code",
   "execution_count": 2557,
   "metadata": {
    "scrolled": false
   },
   "outputs": [
    {
     "data": {
      "text/plain": [
       "753"
      ]
     },
     "execution_count": 2557,
     "metadata": {},
     "output_type": "execute_result"
    }
   ],
   "source": [
    "len(X_train_voc)"
   ]
  },
  {
   "cell_type": "code",
   "execution_count": 2558,
   "metadata": {},
   "outputs": [
    {
     "data": {
      "text/plain": [
       "80                                                      \n",
       "885     [F�r Veranstaltung Beschreibung., KIT Karlsru...\n",
       "749     Aein Gl�sel Woi Musi Spa� Gass... Woifescht! ...\n",
       "825     Talklet (Vortrags- Diskussionsabend) Donnerst...\n",
       "429     Dienstag, 22. November 2011, 18.30 Uhr\\n\\n13....\n",
       "115     Treffen\\n\\nhttp://ka.stadtwiki.net/Stadtwiki:...\n",
       "473     Talklet (Vortrags- Diskussionsabend) Dienstag...\n",
       "401     Einladung ObjektForum Stuttgart Montag, 3. Ma...\n",
       "12      Veranstaltung Vortr�gen JUG Berlin-Brandenbur...\n",
       "532     Talklet (Vortrags- Diskussionsabend) Donnerst...\n",
       "576     [JUnit Bereich TDD Java Entwickler Werkzeug. ...\n",
       "447     Einladung ObjektForum Stuttgart Montag, 10. J...\n",
       "274     Neben Datenbank Datentypen SQL Server 2008 Da...\n",
       "581     [Nein, Mocks! M�ssen Sie Application Server B...\n",
       "386     Dienstag, 16. Juni 2009, 18.30 Uhr: \\nEinladu...\n",
       "479     Workshop Java Entscheider 8. Juli Kultur- & K...\n",
       "519     Einladung ObjektForum Stuttgart Montag, 20. N...\n",
       "430     Liebe JUGS-Mitglieder,\\n\\num Gespr�che Thema ...\n",
       "716     -- contacter�Tatiana Mychelova Il Tatiana � �...\n",
       "807     Agenda:<br07:30 - 08:15 Fr�hst�ck<br08:15 - 0...\n",
       "4       [NOSQL, Big Data Graphen Zeit Munde - Thema!,...\n",
       "291     Treffen Ruby/Rails Usergroup.\\n\\nEin Vortrag ...\n",
       "682     Ein Mordfall Aberglauben Wahn Adriana, Gerich...\n",
       "120     Fachmesse, Workshops Vortr�ge\\n\\nDie Plattfor...\n",
       "155     67. K-Stammtisch:\\nGeorg Rademacher:\\nRichtfu...\n",
       "941     In The It / Bitte Paper Track: Graph Networks...\n",
       "664     Agenda ��Welcome � Punkte ----- ��Meet Greet ...\n",
       "299     Referent: Dr. Joern Mueller-Quade, Europaeisc...\n",
       "196     Einf�hrung E-Mail-Kommunikation (SSL, GPG), A...\n",
       "555     [Der Wandel Desktop Browsern Webclients, Wand...\n",
       "                             ...                        \n",
       "86                                                  Mehr\n",
       "641     Moritz Kiefer Vortrag Thema �Writing Fast Has...\n",
       "709     � Was werden<brThis We RPG We Oneshots If her...\n",
       "777     Stuttgart [See English Sei Jeden DIENSTAG 19 ...\n",
       "814     � Was werden<br(Meetups German/English, welco...\n",
       "45                                                  Mehr\n",
       "699                                           Das Essay \n",
       "828     [Diese Pr�sentation Einblick Funktionsweise A...\n",
       "497     Talklet (Vortrags- Diskussionsabend) Donnerst...\n",
       "9       Activiti Open Source BPM Plattform BPMN 2.0 S...\n",
       "119     http://iswc2008.semanticweb.org/\\n\\nQuelle: h...\n",
       "146     Veranstaltung Rahmen ObjektForums Karlsruhe\\n...\n",
       "713                                                     \n",
       "482     Einladung ObjektForum Stuttgart Montag, 14. S...\n",
       "183     Inhalt:\\n- Vertragstypen\\n- Wichtige Regelung...\n",
       "241     Diskussionen Geo-Themen OpenStreetMap) Karlsr...\n",
       "366     Einladung ObjektForum Stuttgart\\nam Mittwoch,...\n",
       "100     Anmeldelink:\\nhttp://www.gi-ev.de/regionalgru...\n",
       "600     [Auf Seite Modularisierung Software Hut - Jah...\n",
       "432     Einladung ObjektForum Stuttgart Montag, 5. M�...\n",
       "333     http://de.wikipedia.org/wiki/Wikipedia:Karlsruhe\n",
       "407     Einladung ObjektForum Stuttgart Montag, 27. S...\n",
       "875     [Wenn Performance-Messungen Profiler Messpunk...\n",
       "697     We Join tour.<brAt Stuttgart We The St�ckach ...\n",
       "353     Einladung Vortrags- Diskussionsabend H�rsaal ...\n",
       "870     [Sie Sie Sie Letzthin Closures Weg Java 7 Dam...\n",
       "685                                                     \n",
       "31                                                      \n",
       "692     Go � Go / Play Go � Learn Go Der Badische Go-...\n",
       "248     Der Vortrag Ziel Projekt-Management Methode S...\n",
       "Name: desc, Length: 753, dtype: object"
      ]
     },
     "execution_count": 2558,
     "metadata": {},
     "output_type": "execute_result"
    }
   ],
   "source": [
    "X_train_voc"
   ]
  },
  {
   "cell_type": "code",
   "execution_count": 2559,
   "metadata": {},
   "outputs": [
    {
     "data": {
      "text/plain": [
       "267"
      ]
     },
     "execution_count": 2559,
     "metadata": {},
     "output_type": "execute_result"
    }
   ],
   "source": [
    "len(cv.get_feature_names())"
   ]
  },
  {
   "cell_type": "code",
   "execution_count": 2560,
   "metadata": {},
   "outputs": [
    {
     "data": {
      "text/plain": [
       "['abend',\n",
       " 'aber',\n",
       " 'abstract',\n",
       " 'ag',\n",
       " 'agile',\n",
       " 'alle',\n",
       " 'als',\n",
       " 'am',\n",
       " 'an',\n",
       " 'andrena',\n",
       " 'anfahrt',\n",
       " 'anforderungen',\n",
       " 'anmeldung',\n",
       " 'anschluss',\n",
       " 'anwendung',\n",
       " 'anwendungen',\n",
       " 'apache',\n",
       " 'api',\n",
       " 'application',\n",
       " 'april',\n",
       " 'architekt',\n",
       " 'architektur',\n",
       " 'atmosph',\n",
       " 'autor',\n",
       " 'basis',\n",
       " 'bei',\n",
       " 'beispiel',\n",
       " 'bereich',\n",
       " 'berlin',\n",
       " 'bio',\n",
       " 'bitte',\n",
       " 'blick',\n",
       " 'br',\n",
       " 'business',\n",
       " 'che',\n",
       " 'class',\n",
       " 'cloud',\n",
       " 'club',\n",
       " 'co',\n",
       " 'code',\n",
       " 'com',\n",
       " 'community',\n",
       " 'consultant',\n",
       " 'dabei',\n",
       " 'das',\n",
       " 'data',\n",
       " 'daten',\n",
       " 'de',\n",
       " 'degerloch',\n",
       " 'der',\n",
       " 'design',\n",
       " 'details',\n",
       " 'deutschland',\n",
       " 'die',\n",
       " 'dienstag',\n",
       " 'diese',\n",
       " 'dieser',\n",
       " 'diskussion',\n",
       " 'diskussionsabend',\n",
       " 'donnerstag',\n",
       " 'dr',\n",
       " 'du',\n",
       " 'eclipse',\n",
       " 'ee',\n",
       " 'ein',\n",
       " 'eine',\n",
       " 'einf',\n",
       " 'einladung',\n",
       " 'einsatz',\n",
       " 'eintritt',\n",
       " 'end',\n",
       " 'ende',\n",
       " 'enterprise',\n",
       " 'entwickler',\n",
       " 'entwicklung',\n",
       " 'er',\n",
       " 'erfahrung',\n",
       " 'erfahrungen',\n",
       " 'es',\n",
       " 'event',\n",
       " 'events',\n",
       " 'fasanengarten',\n",
       " 'features',\n",
       " 'forum',\n",
       " 'frage',\n",
       " 'fragen',\n",
       " 'framework',\n",
       " 'frameworks',\n",
       " 'ge',\n",
       " 'geb',\n",
       " 'gen',\n",
       " 'gesch',\n",
       " 'getr',\n",
       " 'git',\n",
       " 'glichkeit',\n",
       " 'glichkeiten',\n",
       " 'gmbh',\n",
       " 'google',\n",
       " 'gr',\n",
       " 'group',\n",
       " 'gruppe',\n",
       " 'gung',\n",
       " 'he',\n",
       " 'heres',\n",
       " 'hier',\n",
       " 'hochschule',\n",
       " 'href',\n",
       " 'hrung',\n",
       " 'html',\n",
       " 'http',\n",
       " 'https',\n",
       " 'idee',\n",
       " 'ideen',\n",
       " 'im',\n",
       " 'in',\n",
       " 'info',\n",
       " 'informatik',\n",
       " 'informationen',\n",
       " 'infos',\n",
       " 'integration',\n",
       " 'interesse',\n",
       " 'internet',\n",
       " 'ist',\n",
       " 'it',\n",
       " 'jahre',\n",
       " 'jahren',\n",
       " 'java',\n",
       " 'jboss',\n",
       " 'jekyll',\n",
       " 'jug',\n",
       " 'jugs',\n",
       " 'juli',\n",
       " 'juni',\n",
       " 'ka',\n",
       " 'kaiserslautern',\n",
       " 'karlsruhe',\n",
       " 'karlsruher',\n",
       " 'kg',\n",
       " 'kit',\n",
       " 'konferenzen',\n",
       " 'konzepte',\n",
       " 'kunden',\n",
       " 'linkified',\n",
       " 'mail',\n",
       " 'management',\n",
       " 'meetup',\n",
       " 'mehr',\n",
       " 'meldet',\n",
       " 'michael',\n",
       " 'minuten',\n",
       " 'mit',\n",
       " 'mittwoch',\n",
       " 'monat',\n",
       " 'montag',\n",
       " 'nach',\n",
       " 'nder',\n",
       " 'neben',\n",
       " 'net',\n",
       " 'networking',\n",
       " 'neugierige',\n",
       " 'neulinge',\n",
       " 'objektforum',\n",
       " 'oktober',\n",
       " 'oliver',\n",
       " 'open',\n",
       " 'org',\n",
       " 'ort',\n",
       " 'performance',\n",
       " 'planung',\n",
       " 'plattform',\n",
       " 'powered',\n",
       " 'pr',\n",
       " 'praxis',\n",
       " 'probleme',\n",
       " 'prof',\n",
       " 'programmierung',\n",
       " 'projekt',\n",
       " 'projekte',\n",
       " 'projekten',\n",
       " 'qualit',\n",
       " 'rahmen',\n",
       " 'raum',\n",
       " 're',\n",
       " 'referent',\n",
       " 'referenten',\n",
       " 'rest',\n",
       " 'revision',\n",
       " 'rz',\n",
       " 'scheuer',\n",
       " 'security',\n",
       " 'seine',\n",
       " 'seit',\n",
       " 'seite',\n",
       " 'september',\n",
       " 'server',\n",
       " 'services',\n",
       " 'session',\n",
       " 'sie',\n",
       " 'software',\n",
       " 'softwareentwickler',\n",
       " 'softwareentwicklung',\n",
       " 'source',\n",
       " 'sprache',\n",
       " 'sprecher',\n",
       " 'spring',\n",
       " 'stammtisch',\n",
       " 'stuttgart',\n",
       " 'sung',\n",
       " 'sungen',\n",
       " 'systeme',\n",
       " 'talk',\n",
       " 'talklet',\n",
       " 'technik',\n",
       " 'technologie',\n",
       " 'technologien',\n",
       " 'teil',\n",
       " 'teilnehmer',\n",
       " 'test',\n",
       " 'testen',\n",
       " 'tests',\n",
       " 'the',\n",
       " 'thema',\n",
       " 'themen',\n",
       " 'tools',\n",
       " 'trainer',\n",
       " 'treffen',\n",
       " 'tze',\n",
       " 'tzung',\n",
       " 'ude',\n",
       " 'ug',\n",
       " 'uhr',\n",
       " 'um',\n",
       " 'umfeld',\n",
       " 'und',\n",
       " 'universit',\n",
       " 'unternehmen',\n",
       " 'unterst',\n",
       " 'user',\n",
       " 'veranstalter',\n",
       " 'veranstaltung',\n",
       " 'veranstaltungen',\n",
       " 'veranstaltungseite',\n",
       " 'verf',\n",
       " 'version',\n",
       " 'von',\n",
       " 'vortr',\n",
       " 'vortrag',\n",
       " 'vortrags',\n",
       " 'was',\n",
       " 'we',\n",
       " 'web',\n",
       " 'weg',\n",
       " 'weitere',\n",
       " 'welt',\n",
       " 'wenn',\n",
       " 'wer',\n",
       " 'werden',\n",
       " 'wichtig',\n",
       " 'wie',\n",
       " 'wiki',\n",
       " 'wir',\n",
       " 'wissen',\n",
       " 'workshop',\n",
       " 'www',\n",
       " 'xing',\n",
       " 'zeit',\n",
       " 'zum']"
      ]
     },
     "execution_count": 2560,
     "metadata": {},
     "output_type": "execute_result"
    }
   ],
   "source": [
    "cv.get_feature_names()"
   ]
  },
  {
   "cell_type": "code",
   "execution_count": 2561,
   "metadata": {},
   "outputs": [],
   "source": [
    "Y_train = Y_train.astype('int')"
   ]
  },
  {
   "cell_type": "code",
   "execution_count": 2562,
   "metadata": {},
   "outputs": [],
   "source": [
    "Y_test = Y_test.astype('int')"
   ]
  },
  {
   "cell_type": "code",
   "execution_count": 2563,
   "metadata": {},
   "outputs": [],
   "source": [
    "X_test_cv = cv.transform(X_test['desc'])"
   ]
  },
  {
   "cell_type": "code",
   "execution_count": 2564,
   "metadata": {},
   "outputs": [],
   "source": [
    "def myEvaluation(y_pred):\n",
    "    print(classification_report(Y_test, y_pred, digits=4))\n",
    "    sns.heatmap(confusion_matrix(Y_test, y_pred), square=True, annot=True)\n",
    "    plt.show()"
   ]
  },
  {
   "cell_type": "markdown",
   "metadata": {},
   "source": [
    "# DecisionTree"
   ]
  },
  {
   "cell_type": "code",
   "execution_count": 2565,
   "metadata": {},
   "outputs": [
    {
     "name": "stdout",
     "output_type": "stream",
     "text": [
      "             precision    recall  f1-score   support\n",
      "\n",
      "          0     0.9756    0.9756    0.9756       164\n",
      "          1     0.8400    0.8400    0.8400        25\n",
      "\n",
      "avg / total     0.9577    0.9577    0.9577       189\n",
      "\n"
     ]
    },
    {
     "data": {
      "image/png": "[encoded data removed]",
      "text/plain": [
       "<Figure size 432x288 with 2 Axes>"
      ]
     },
     "metadata": {},
     "output_type": "display_data"
    }
   ],
   "source": [
    "clf_tree = tree.DecisionTreeClassifier(max_depth=70)\n",
    "clf_tree.fit(X_train_cv, Y_train)\n",
    "y_pred_tree = clf_tree.predict(X_test_cv)\n",
    "myEvaluation(y_pred_tree)"
   ]
  },
  {
   "cell_type": "markdown",
   "metadata": {},
   "source": [
    "# DecisionTree + ROS"
   ]
  },
  {
   "cell_type": "code",
   "execution_count": 2566,
   "metadata": {},
   "outputs": [
    {
     "name": "stdout",
     "output_type": "stream",
     "text": [
      "             precision    recall  f1-score   support\n",
      "\n",
      "          0     0.9758    0.9817    0.9787       164\n",
      "          1     0.8750    0.8400    0.8571        25\n",
      "\n",
      "avg / total     0.9624    0.9630    0.9626       189\n",
      "\n"
     ]
    },
    {
     "data": {
      "image/png": "[encoded data removed]",
      "text/plain": [
       "<Figure size 432x288 with 2 Axes>"
      ]
     },
     "metadata": {},
     "output_type": "display_data"
    }
   ],
   "source": [
    "ros = RandomOverSampler()\n",
    "X_ros_res, y_ros_res = ros.fit_sample(X_train_cv, Y_train)\n",
    "clf_tree = tree.DecisionTreeClassifier()\n",
    "clf_tree.fit(X_ros_res, y_ros_res)\n",
    "y_pred_tree = clf_tree.predict(X_test_cv)\n",
    "myEvaluation(y_pred_tree)"
   ]
  },
  {
   "cell_type": "markdown",
   "metadata": {},
   "source": [
    "# DecisionTree + SMOTE"
   ]
  },
  {
   "cell_type": "code",
   "execution_count": 2567,
   "metadata": {},
   "outputs": [
    {
     "name": "stdout",
     "output_type": "stream",
     "text": [
      "             precision    recall  f1-score   support\n",
      "\n",
      "          0     0.9814    0.9634    0.9723       164\n",
      "          1     0.7857    0.8800    0.8302        25\n",
      "\n",
      "avg / total     0.9555    0.9524    0.9535       189\n",
      "\n"
     ]
    },
    {
     "data": {
      "image/png": "[encoded data removed]",
      "text/plain": [
       "<Figure size 432x288 with 2 Axes>"
      ]
     },
     "metadata": {},
     "output_type": "display_data"
    }
   ],
   "source": [
    "s = SMOTE()\n",
    "X_s_res, y_s_res = s.fit_sample(X_train_cv, Y_train)\n",
    "clf_tree = tree.DecisionTreeClassifier()\n",
    "clf_tree.fit(X_s_res, y_s_res)\n",
    "y_pred_tree = clf_tree.predict(X_test_cv)\n",
    "myEvaluation(y_pred_tree)"
   ]
  },
  {
   "cell_type": "markdown",
   "metadata": {},
   "source": [
    "# Decisiontree + ADASYN"
   ]
  },
  {
   "cell_type": "code",
   "execution_count": 2568,
   "metadata": {},
   "outputs": [
    {
     "name": "stdout",
     "output_type": "stream",
     "text": [
      "             precision    recall  f1-score   support\n",
      "\n",
      "          0     0.9756    0.9756    0.9756       164\n",
      "          1     0.8400    0.8400    0.8400        25\n",
      "\n",
      "avg / total     0.9577    0.9577    0.9577       189\n",
      "\n"
     ]
    },
    {
     "data": {
      "image/png": "[encoded data removed]",
      "text/plain": [
       "<Figure size 432x288 with 2 Axes>"
      ]
     },
     "metadata": {},
     "output_type": "display_data"
    }
   ],
   "source": [
    "ada = ADASYN()\n",
    "X_ada_res, y_ada_res = ada.fit_sample(X_train_cv, Y_train)\n",
    "clf_tree = tree.DecisionTreeClassifier()\n",
    "clf_tree.fit(X_ada_res, y_ada_res)\n",
    "y_pred_tree = clf_tree.predict(X_test_cv)\n",
    "myEvaluation(y_pred_tree)"
   ]
  },
  {
   "cell_type": "markdown",
   "metadata": {},
   "source": [
    "# DecisionTree + RandomUnderSampler"
   ]
  },
  {
   "cell_type": "code",
   "execution_count": 2569,
   "metadata": {},
   "outputs": [
    {
     "name": "stdout",
     "output_type": "stream",
     "text": [
      "             precision    recall  f1-score   support\n",
      "\n",
      "          0     0.9801    0.9024    0.9397       164\n",
      "          1     0.5789    0.8800    0.6984        25\n",
      "\n",
      "avg / total     0.9271    0.8995    0.9078       189\n",
      "\n"
     ]
    },
    {
     "data": {
      "image/png": "[encoded data removed]",
      "text/plain": [
       "<Figure size 432x288 with 2 Axes>"
      ]
     },
     "metadata": {},
     "output_type": "display_data"
    }
   ],
   "source": [
    "rus = RandomUnderSampler()\n",
    "X_rus_res, y_rus_res = rus.fit_sample(X_train_cv, Y_train)\n",
    "clf_tree = tree.DecisionTreeClassifier()\n",
    "clf_tree.fit(X_rus_res, y_rus_res)\n",
    "y_pred_tree = clf_tree.predict(X_test_cv)\n",
    "myEvaluation(y_pred_tree)"
   ]
  },
  {
   "cell_type": "markdown",
   "metadata": {},
   "source": [
    "# RandomForestTree"
   ]
  },
  {
   "cell_type": "code",
   "execution_count": 2570,
   "metadata": {},
   "outputs": [
    {
     "name": "stdout",
     "output_type": "stream",
     "text": [
      "             precision    recall  f1-score   support\n",
      "\n",
      "          0     0.9704    1.0000    0.9850       164\n",
      "          1     1.0000    0.8000    0.8889        25\n",
      "\n",
      "avg / total     0.9743    0.9735    0.9723       189\n",
      "\n"
     ]
    },
    {
     "data": {
      "image/png": "[encoded data removed]",
      "text/plain": [
       "<Figure size 432x288 with 2 Axes>"
      ]
     },
     "metadata": {},
     "output_type": "display_data"
    }
   ],
   "source": [
    "clf_rdm_tree = RandomForestClassifier(n_estimators=75, max_depth=50)\n",
    "clf_rdm_tree.fit(X_train_cv, Y_train)\n",
    "y_pred_rdmForest = clf_rdm_tree.predict(X_test_cv)\n",
    "myEvaluation(y_pred_rdmForest)"
   ]
  },
  {
   "cell_type": "markdown",
   "metadata": {},
   "source": [
    "# AdaBoostTree"
   ]
  },
  {
   "cell_type": "code",
   "execution_count": 2571,
   "metadata": {},
   "outputs": [
    {
     "name": "stdout",
     "output_type": "stream",
     "text": [
      "             precision    recall  f1-score   support\n",
      "\n",
      "          0     0.9758    0.9817    0.9787       164\n",
      "          1     0.8750    0.8400    0.8571        25\n",
      "\n",
      "avg / total     0.9624    0.9630    0.9626       189\n",
      "\n"
     ]
    },
    {
     "data": {
      "image/png": "[encoded data removed]",
      "text/plain": [
       "<Figure size 432x288 with 2 Axes>"
      ]
     },
     "metadata": {},
     "output_type": "display_data"
    }
   ],
   "source": [
    "clf_adaBoost_tree = AdaBoostClassifier(tree.DecisionTreeClassifier(max_depth=50),\n",
    "                         algorithm=\"SAMME\",\n",
    "                         n_estimators= 100)\n",
    "\n",
    "clf_adaBoost_tree.fit(X_train_cv, Y_train)\n",
    "y_pred_adaBoost = clf_adaBoost_tree.predict(X_test_cv)\n",
    "myEvaluation(y_pred_adaBoost)"
   ]
  },
  {
   "cell_type": "code",
   "execution_count": 2572,
   "metadata": {},
   "outputs": [
    {
     "name": "stdout",
     "output_type": "stream",
     "text": [
      "             precision    recall  f1-score   support\n",
      "\n",
      "          0     0.9873    0.9512    0.9689       164\n",
      "          1     0.7419    0.9200    0.8214        25\n",
      "\n",
      "avg / total     0.9549    0.9471    0.9494       189\n",
      "\n"
     ]
    },
    {
     "data": {
      "image/png": "[encoded data removed]",
      "text/plain": [
       "<Figure size 432x288 with 2 Axes>"
      ]
     },
     "metadata": {},
     "output_type": "display_data"
    }
   ],
   "source": [
    "rus = SMOTE()\n",
    "X_rus_res, y_rus_res = rus.fit_sample(X_train_cv, Y_train)\n",
    "clf_adaBoost_tree = AdaBoostClassifier(tree.DecisionTreeClassifier(max_depth=50),\n",
    "                         algorithm=\"SAMME\",\n",
    "                         n_estimators= 100)\n",
    "\n",
    "clf_adaBoost_tree.fit(X_rus_res, y_rus_res)\n",
    "y_pred_adaBoost = clf_adaBoost_tree.predict(X_test_cv)\n",
    "myEvaluation(y_pred_adaBoost)"
   ]
  },
  {
   "cell_type": "markdown",
   "metadata": {},
   "source": [
    "# GradientBoostingTree"
   ]
  },
  {
   "cell_type": "code",
   "execution_count": 2573,
   "metadata": {},
   "outputs": [
    {
     "name": "stdout",
     "output_type": "stream",
     "text": [
      "             precision    recall  f1-score   support\n",
      "\n",
      "          0     0.9760    0.9939    0.9849       164\n",
      "          1     0.9545    0.8400    0.8936        25\n",
      "\n",
      "avg / total     0.9732    0.9735    0.9728       189\n",
      "\n"
     ]
    },
    {
     "data": {
      "image/png": "[encoded data removed]",
      "text/plain": [
       "<Figure size 432x288 with 2 Axes>"
      ]
     },
     "metadata": {},
     "output_type": "display_data"
    }
   ],
   "source": [
    "clf_gradBoost_tree1 = GradientBoostingClassifier(n_estimators=100, learning_rate=0.1, max_depth=50)\n",
    "clf_gradBoost_tree1.fit(X_train_cv, Y_train)\n",
    "y_pred_gradBoost = clf_gradBoost_tree1.predict(X_test_cv)\n",
    "myEvaluation(y_pred_gradBoost)"
   ]
  },
  {
   "cell_type": "code",
   "execution_count": 2574,
   "metadata": {},
   "outputs": [
    {
     "name": "stdout",
     "output_type": "stream",
     "text": [
      "             precision    recall  f1-score   support\n",
      "\n",
      "          0     0.9759    0.9878    0.9818       164\n",
      "          1     0.9130    0.8400    0.8750        25\n",
      "\n",
      "avg / total     0.9676    0.9683    0.9677       189\n",
      "\n"
     ]
    },
    {
     "data": {
      "image/png": "[encoded data removed]",
      "text/plain": [
       "<Figure size 432x288 with 2 Axes>"
      ]
     },
     "metadata": {},
     "output_type": "display_data"
    }
   ],
   "source": [
    "clf_gradBoost_tree2 = GradientBoostingClassifier(n_estimators=75, learning_rate=0.1, max_depth=50)\n",
    "clf_gradBoost_tree2.fit(X_train_cv, Y_train)\n",
    "y_pred_gradBoost = clf_gradBoost_tree2.predict(X_test_cv)\n",
    "myEvaluation(y_pred_gradBoost)"
   ]
  },
  {
   "cell_type": "code",
   "execution_count": 2575,
   "metadata": {},
   "outputs": [
    {
     "name": "stdout",
     "output_type": "stream",
     "text": [
      "             precision    recall  f1-score   support\n",
      "\n",
      "          0     0.9760    0.9939    0.9849       164\n",
      "          1     0.9545    0.8400    0.8936        25\n",
      "\n",
      "avg / total     0.9732    0.9735    0.9728       189\n",
      "\n"
     ]
    },
    {
     "data": {
      "image/png": "[encoded data removed]",
      "text/plain": [
       "<Figure size 432x288 with 2 Axes>"
      ]
     },
     "metadata": {},
     "output_type": "display_data"
    }
   ],
   "source": [
    "clf_gradBoost_tree3 = GradientBoostingClassifier(n_estimators=100, learning_rate=0.1, max_depth=50)\n",
    "clf_gradBoost_tree3.fit(X_train_cv, Y_train)\n",
    "y_pred_gradBoost = clf_gradBoost_tree3.predict(X_test_cv)\n",
    "myEvaluation(y_pred_gradBoost)"
   ]
  },
  {
   "cell_type": "code",
   "execution_count": 2576,
   "metadata": {},
   "outputs": [
    {
     "name": "stdout",
     "output_type": "stream",
     "text": [
      "             precision    recall  f1-score   support\n",
      "\n",
      "          0     0.9759    0.9878    0.9818       164\n",
      "          1     0.9130    0.8400    0.8750        25\n",
      "\n",
      "avg / total     0.9676    0.9683    0.9677       189\n",
      "\n"
     ]
    },
    {
     "data": {
      "image/png": "[encoded data removed]",
      "text/plain": [
       "<Figure size 432x288 with 2 Axes>"
      ]
     },
     "metadata": {},
     "output_type": "display_data"
    }
   ],
   "source": [
    "clf_gradBoost_tree4 = GradientBoostingClassifier(n_estimators=50, learning_rate=0.1, max_depth=75)\n",
    "clf_gradBoost_tree4.fit(X_train_cv, Y_train)\n",
    "y_pred_gradBoost = clf_gradBoost_tree4.predict(X_test_cv)\n",
    "myEvaluation(y_pred_gradBoost)"
   ]
  },
  {
   "cell_type": "code",
   "execution_count": 2577,
   "metadata": {},
   "outputs": [
    {
     "name": "stdout",
     "output_type": "stream",
     "text": [
      "             precision    recall  f1-score   support\n",
      "\n",
      "          0     0.9758    0.9817    0.9787       164\n",
      "          1     0.8750    0.8400    0.8571        25\n",
      "\n",
      "avg / total     0.9624    0.9630    0.9626       189\n",
      "\n"
     ]
    },
    {
     "data": {
      "image/png": "[encoded data removed]",
      "text/plain": [
       "<Figure size 432x288 with 2 Axes>"
      ]
     },
     "metadata": {},
     "output_type": "display_data"
    }
   ],
   "source": [
    "clf_gradBoost_tree5 = GradientBoostingClassifier(n_estimators=50, learning_rate=0.1, max_depth=100)\n",
    "clf_gradBoost_tree5.fit(X_train_cv, Y_train)\n",
    "y_pred_gradBoost = clf_gradBoost_tree5.predict(X_test_cv)\n",
    "myEvaluation(y_pred_gradBoost)"
   ]
  },
  {
   "cell_type": "code",
   "execution_count": 2578,
   "metadata": {},
   "outputs": [
    {
     "name": "stdout",
     "output_type": "stream",
     "text": [
      "             precision    recall  f1-score   support\n",
      "\n",
      "          0     0.9760    0.9939    0.9849       164\n",
      "          1     0.9545    0.8400    0.8936        25\n",
      "\n",
      "avg / total     0.9732    0.9735    0.9728       189\n",
      "\n"
     ]
    },
    {
     "data": {
      "image/png": "[encoded data removed]",
      "text/plain": [
       "<Figure size 432x288 with 2 Axes>"
      ]
     },
     "metadata": {},
     "output_type": "display_data"
    }
   ],
   "source": [
    "clf_gradBoost_tree6 = GradientBoostingClassifier(n_estimators=100, learning_rate=0.1, max_depth=40)\n",
    "clf_gradBoost_tree6.fit(X_train_cv, Y_train)\n",
    "y_pred_gradBoost = clf_gradBoost_tree6.predict(X_test_cv)\n",
    "myEvaluation(y_pred_gradBoost)"
   ]
  },
  {
   "cell_type": "code",
   "execution_count": 2579,
   "metadata": {},
   "outputs": [
    {
     "name": "stdout",
     "output_type": "stream",
     "text": [
      "             precision    recall  f1-score   support\n",
      "\n",
      "          0     0.9758    0.9817    0.9787       164\n",
      "          1     0.8750    0.8400    0.8571        25\n",
      "\n",
      "avg / total     0.9624    0.9630    0.9626       189\n",
      "\n"
     ]
    },
    {
     "data": {
      "image/png": "[encoded data removed]",
      "text/plain": [
       "<Figure size 432x288 with 2 Axes>"
      ]
     },
     "metadata": {},
     "output_type": "display_data"
    }
   ],
   "source": [
    "clf_gradBoost_tree7 = GradientBoostingClassifier(n_estimators=100, learning_rate=0.1, max_depth=30)\n",
    "clf_gradBoost_tree7.fit(X_train_cv, Y_train)\n",
    "y_pred_gradBoost = clf_gradBoost_tree7.predict(X_test_cv)\n",
    "myEvaluation(y_pred_gradBoost)"
   ]
  },
  {
   "cell_type": "code",
   "execution_count": 2580,
   "metadata": {},
   "outputs": [
    {
     "name": "stdout",
     "output_type": "stream",
     "text": [
      "             precision    recall  f1-score   support\n",
      "\n",
      "          0     0.9760    0.9939    0.9849       164\n",
      "          1     0.9545    0.8400    0.8936        25\n",
      "\n",
      "avg / total     0.9732    0.9735    0.9728       189\n",
      "\n"
     ]
    },
    {
     "data": {
      "image/png": "[encoded data removed]",
      "text/plain": [
       "<Figure size 432x288 with 2 Axes>"
      ]
     },
     "metadata": {},
     "output_type": "display_data"
    }
   ],
   "source": [
    "clf_gradBoost_tree8 = GradientBoostingClassifier(n_estimators=100, learning_rate=0.1, max_depth=20)\n",
    "clf_gradBoost_tree8.fit(X_train_cv, Y_train)\n",
    "y_pred_gradBoost = clf_gradBoost_tree8.predict(X_test_cv)\n",
    "myEvaluation(y_pred_gradBoost)"
   ]
  },
  {
   "cell_type": "markdown",
   "metadata": {},
   "source": [
    "# GradientBoostingTree + ROS"
   ]
  },
  {
   "cell_type": "code",
   "execution_count": 2581,
   "metadata": {},
   "outputs": [
    {
     "name": "stdout",
     "output_type": "stream",
     "text": [
      "             precision    recall  f1-score   support\n",
      "\n",
      "          0     0.9817    0.9817    0.9817       164\n",
      "          1     0.8800    0.8800    0.8800        25\n",
      "\n",
      "avg / total     0.9683    0.9683    0.9683       189\n",
      "\n"
     ]
    },
    {
     "data": {
      "image/png": "[encoded data removed]",
      "text/plain": [
       "<Figure size 432x288 with 2 Axes>"
      ]
     },
     "metadata": {},
     "output_type": "display_data"
    }
   ],
   "source": [
    "ros = RandomOverSampler()\n",
    "X_ros_res, y_ros_res = ros.fit_sample(X_train_cv, Y_train)\n",
    "clf_gradBoost_tree9 = GradientBoostingClassifier(n_estimators=75, learning_rate=0.1, max_depth=50)\n",
    "clf_gradBoost_tree9.fit(X_rus_res, y_rus_res)\n",
    "y_pred_gradBoost = clf_gradBoost_tree9.predict(X_test_cv)\n",
    "myEvaluation(y_pred_gradBoost)"
   ]
  },
  {
   "cell_type": "markdown",
   "metadata": {},
   "source": [
    "# GradientBoostingTree + RUS"
   ]
  },
  {
   "cell_type": "code",
   "execution_count": 2582,
   "metadata": {},
   "outputs": [
    {
     "name": "stdout",
     "output_type": "stream",
     "text": [
      "             precision    recall  f1-score   support\n",
      "\n",
      "          0     0.9934    0.9146    0.9524       164\n",
      "          1     0.6316    0.9600    0.7619        25\n",
      "\n",
      "avg / total     0.9455    0.9206    0.9272       189\n",
      "\n"
     ]
    },
    {
     "data": {
      "image/png": "[encoded data removed]",
      "text/plain": [
       "<Figure size 432x288 with 2 Axes>"
      ]
     },
     "metadata": {},
     "output_type": "display_data"
    }
   ],
   "source": [
    "rus = RandomUnderSampler()\n",
    "X_rus_res, y_rus_res = rus.fit_sample(X_train_cv, Y_train)\n",
    "clf_gradBoost_tree10 = GradientBoostingClassifier(n_estimators=75, learning_rate=0.1, max_depth=30)\n",
    "clf_gradBoost_tree10.fit(X_rus_res, y_rus_res)\n",
    "y_pred_gradBoost = clf_gradBoost_tree10.predict(X_test_cv)\n",
    "myEvaluation(y_pred_gradBoost)"
   ]
  },
  {
   "cell_type": "code",
   "execution_count": 2596,
   "metadata": {},
   "outputs": [
    {
     "data": {
      "text/plain": [
       "['clf_gradBoost_tree.pkl']"
      ]
     },
     "execution_count": 2596,
     "metadata": {},
     "output_type": "execute_result"
    }
   ],
   "source": [
    "joblib.dump(clf_gradBoost_tree, 'clf_gradBoost_tree.pkl') "
   ]
  },
  {
   "cell_type": "code",
   "execution_count": null,
   "metadata": {},
   "outputs": [],
   "source": [
    " "
   ]
  },
  {
   "cell_type": "code",
   "execution_count": null,
   "metadata": {},
   "outputs": [],
   "source": []
  }
 ],
 "metadata": {
  "kernelspec": {
   "display_name": "Python 3",
   "language": "python",
   "name": "python3"
  },
  "language_info": {
   "codemirror_mode": {
    "name": "ipython",
    "version": 3
   },
   "file_extension": ".py",
   "mimetype": "text/x-python",
   "name": "python",
   "nbconvert_exporter": "python",
   "pygments_lexer": "ipython3",
   "version": "3.6.6"
  }
 },
 "nbformat": 4,
 "nbformat_minor": 2
}
